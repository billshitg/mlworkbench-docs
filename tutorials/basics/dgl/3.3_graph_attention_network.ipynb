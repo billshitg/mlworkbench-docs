{
 "cells": [
  {
   "cell_type": "markdown",
   "source": [
    "# Graph Attention Network\n",
    "This notebook demonstrates the training of [Graph Attention Networks](https://arxiv.org/abs/1710.10903) with TigerGraph. [Pytorch Geometric](https://pytorch-geometric.readthedocs.io)'s implementation of GAT is used here. We train the model on the Cora dataset from [PyG datasets](https://pytorch-geometric.readthedocs.io/en/latest/modules/datasets.html#torch_geometric.datasets.Planetoid) with TigerGraph as the data store. The dataset contains 2708 machine learning papers and 10556 citation links between the papers.  Each publication in the dataset is described by a 0/1-valued word vector indicating the absence/presence of the corresponding word from a dictionary. The dictionary consists of 1433 unique words. Each paper is classified into one of seven classes based on the topic. The goal is to predict the class of each vertex in the graph."
   ],
   "metadata": {}
  },
  {
   "cell_type": "markdown",
   "source": [
    "## Table of Contents\n",
    "* [Data Processing](#data_processing)  \n",
    "* [Train on whole graph](#train_whole)  \n",
    "* [Train on neighborhood subgraphs](#train_subgraph)  "
   ],
   "metadata": {}
  },
  {
   "cell_type": "markdown",
   "source": [
    "## Data Processing <a name=\"data_processing\"></a>\n",
    "\n",
    "Here we assume the dataset is already ingested into the TigerGraph database. If not, please refer to the example on data ingestion first. Since the dataset already has a split of vertices into train/validation/test sets, we don't need to do so. But we still include the code below for general use cases."
   ],
   "metadata": {}
  },
  {
   "cell_type": "markdown",
   "source": [
    "### Connect to TigerGraph"
   ],
   "metadata": {}
  },
  {
   "cell_type": "code",
   "execution_count": 1,
   "source": [
    "from tgml.data import TigerGraph\n",
    "\n",
    "tgraph = TigerGraph(\n",
    "    host=\"http://35.230.92.92\",\n",
    "    graph=\"Cora\",\n",
    "    username=\"tigergraph\",\n",
    "    password=\"tigergraphml\",\n",
    ")"
   ],
   "outputs": [],
   "metadata": {}
  },
  {
   "cell_type": "code",
   "execution_count": 2,
   "source": [
    "tgraph.info()"
   ],
   "outputs": [
    {
     "output_type": "stream",
     "name": "stdout",
     "text": [
      "Using graph 'Cora'\n",
      "---- Graph Cora\n",
      "Vertex Types: \n",
      "  - VERTEX Paper(PRIMARY_ID id INT, x LIST<INT>, y INT, train_mask BOOL, val_mask BOOL, test_mask BOOL, tmp_id INT, tmp_id2 INT, tmp_id3 INT) WITH STATS=\"OUTDEGREE_BY_EDGETYPE\", PRIMARY_ID_AS_ATTRIBUTE=\"true\"\n",
      "Edge Types: \n",
      "  - DIRECTED EDGE Cite(FROM Paper, TO Paper)\n",
      "\n",
      "Graphs: \n",
      "  - Graph Cora(Paper:v, Cite:e)\n",
      "Jobs: \n",
      "Queries: \n",
      "  - export_edge(string output_path) (installed v2)\n",
      "  - export_edge_batch(string output_path, int batch_id, int num_batches) (installed v2)\n",
      "  - export_vertex_(string output_path) (installed v2)\n",
      "  - export_vertex_batch_x_y(string output_path, int batch_id, int num_batches) (installed v2)\n",
      "  - export_vertex_train_mask_val_mask_test_mask(string output_path) (installed v2)\n",
      "  - export_vertex_x_y(string output_path) (installed v2)\n",
      "  - export_vertex_x_y_train_mask_val_mask_test_mask(string output_path) (installed v2)\n",
      "  - get_vertex_number(string v_type, string filter_by) (installed v2)\n",
      "  - shuffle_vertices(string tmp_id) (installed v2)\n",
      "  - tg_neighbor_sampler_x_y_train_mask_val_mask_test_mask(string vertex_filename, string edge_filename, int batch_id, int num_batches, int num_neighbors, int num_hops, string filter_by, string tmp_id) (installed v2)\n",
      "  - tg_pagerank(string v_type, string e_type, float max_change, int max_iter, float damping, int top_k, bool print_accum, string result_attr, string file_path, bool display_edges) (installed v2)\n",
      "  - train_test_vertex_split(string train_attr, string test_attr, string val_attr, double train_ratio, double test_ratio) (installed v2)\n",
      "\n",
      "\n",
      "\n",
      "\n"
     ]
    }
   ],
   "metadata": {}
  },
  {
   "cell_type": "code",
   "execution_count": 3,
   "source": [
    "tgraph.number_of_vertices()"
   ],
   "outputs": [
    {
     "output_type": "execute_result",
     "data": {
      "text/plain": [
       "2708"
      ]
     },
     "metadata": {},
     "execution_count": 3
    }
   ],
   "metadata": {}
  },
  {
   "cell_type": "code",
   "execution_count": 4,
   "source": [
    "tgraph.number_of_edges()"
   ],
   "outputs": [
    {
     "output_type": "execute_result",
     "data": {
      "text/plain": [
       "10556"
      ]
     },
     "metadata": {},
     "execution_count": 4
    }
   ],
   "metadata": {}
  },
  {
   "cell_type": "markdown",
   "source": [
    "### Train/validation/test split"
   ],
   "metadata": {}
  },
  {
   "cell_type": "code",
   "execution_count": 5,
   "source": [
    "# The code in this cell is commented out because there is no need to split the vertices into training/validation/test sets, as the split is already done in the original dataset. See notebook 1_data_processing for examples on the split function.\n",
    "\n",
    "# from tgml.utils import split_vertices\n",
    "# split_vertices(tgraph, train_mask=0.8, val_mask=0.1, test_mask=0.1)"
   ],
   "outputs": [],
   "metadata": {}
  },
  {
   "cell_type": "code",
   "execution_count": 6,
   "source": [
    "print(\n",
    "    \"Number of vertices in training set:\",\n",
    "    tgraph.number_of_vertices(filter_by=\"train_mask\"),\n",
    ")\n",
    "print(\n",
    "    \"Number of vertices in validation set:\",\n",
    "    tgraph.number_of_vertices(filter_by=\"val_mask\"),\n",
    ")\n",
    "print(\n",
    "    \"Number of vertices in test set:\", tgraph.number_of_vertices(filter_by=\"test_mask\")\n",
    ")"
   ],
   "outputs": [
    {
     "output_type": "stream",
     "name": "stdout",
     "text": [
      "Number of vertices in training set: 2183\n",
      "Number of vertices in validation set: 273\n",
      "Number of vertices in test set: 252\n"
     ]
    }
   ],
   "metadata": {}
  },
  {
   "cell_type": "markdown",
   "source": [
    "## Train on whole graph <a name=\"train_whole\"></a>\n",
    "We first train the model on the whole graph. This works when the graph is small, but it is not efficient or even not possible when the graph is large. Hyperparameters for the model and training environment are defined below."
   ],
   "metadata": {}
  },
  {
   "cell_type": "code",
   "execution_count": 7,
   "source": [
    "# Hyperparameters\n",
    "hp = {\"hidden_dim\": 64, \n",
    "      \"num_layers\": 2, \n",
    "      \"dropout\": 0.6, \n",
    "      \"lr\": 0.01, \n",
    "      \"l2_penalty\": 5e-4}"
   ],
   "outputs": [],
   "metadata": {}
  },
  {
   "cell_type": "markdown",
   "source": [
    "### Construct graph loader"
   ],
   "metadata": {}
  },
  {
   "cell_type": "markdown",
   "source": [
    "The `GraphLoader` will get the whole graph from database all at once. (See the tutorial on dataloaders for details.) "
   ],
   "metadata": {}
  },
  {
   "cell_type": "code",
   "execution_count": 8,
   "source": [
    "from tgml.dataloaders import GraphLoader\n",
    "\n",
    "graph_loader = GraphLoader(\n",
    "    graph=tgraph,\n",
    "    v_in_feats=\"x\",\n",
    "    v_out_labels=\"y:int\",\n",
    "    v_extra_feats=\"train_mask:bool,val_mask:bool,test_mask:bool\",\n",
    "    output_format=\"DGL\",\n",
    ")"
   ],
   "outputs": [],
   "metadata": {}
  },
  {
   "cell_type": "code",
   "execution_count": 9,
   "source": [
    "# Get the whole graph from the loader in DGL format\n",
    "data = graph_loader.data\n",
    "\n",
    "data"
   ],
   "outputs": [
    {
     "output_type": "stream",
     "name": "stderr",
     "text": [
      "Using backend: pytorch\n"
     ]
    },
    {
     "output_type": "execute_result",
     "data": {
      "text/plain": [
       "Graph(num_nodes=2708, num_edges=10556,\n",
       "      ndata_schemes={'feat': Scheme(shape=(1433,), dtype=torch.float32), 'label': Scheme(shape=(), dtype=torch.int64), 'train_mask': Scheme(shape=(), dtype=torch.bool), 'val_mask': Scheme(shape=(), dtype=torch.bool), 'test_mask': Scheme(shape=(), dtype=torch.bool)}\n",
       "      edata_schemes={})"
      ]
     },
     "metadata": {},
     "execution_count": 9
    }
   ],
   "metadata": {}
  },
  {
   "cell_type": "markdown",
   "source": [
    "### Construct model and optimizer"
   ],
   "metadata": {}
  },
  {
   "cell_type": "markdown",
   "source": [
    "We build a GAT model with 2 convolutional layers, and use the Adam optimizer with a learning rate of 0.01."
   ],
   "metadata": {}
  },
  {
   "cell_type": "code",
   "execution_count": 10,
   "source": [
    "import dgl.function as fn\n",
    "import dgl.nn.pytorch as dglnn\n",
    "import torch\n",
    "import torch.nn as nn\n",
    "import torch.nn.functional as F"
   ],
   "outputs": [],
   "metadata": {}
  },
  {
   "cell_type": "code",
   "execution_count": 15,
   "source": [
    "class GAT(nn.Module):\n",
    "    def __init__(self):\n",
    "        super(GAT, self).__init__()\n",
    "        self.layer1 = dglnn.conv.GATConv(1433, hp['hidden_dim'], num_heads=4)\n",
    "        self.layer2 = dglnn.conv.GATConv(hp['hidden_dim']*4, 7, num_heads=1)\n",
    "\n",
    "    def forward(self, g, features):\n",
    "        x = self.layer1(g, features).flatten(1)\n",
    "        x = self.layer2(g, x).mean(1)\n",
    "        return x\n",
    "\n",
    "model = GAT()\n",
    "print(model)"
   ],
   "outputs": [
    {
     "output_type": "stream",
     "name": "stdout",
     "text": [
      "GAT(\n",
      "  (layer1): GATConv(\n",
      "    (fc): Linear(in_features=1433, out_features=256, bias=False)\n",
      "    (feat_drop): Dropout(p=0.0, inplace=False)\n",
      "    (attn_drop): Dropout(p=0.0, inplace=False)\n",
      "    (leaky_relu): LeakyReLU(negative_slope=0.2)\n",
      "  )\n",
      "  (layer2): GATConv(\n",
      "    (fc): Linear(in_features=256, out_features=7, bias=False)\n",
      "    (feat_drop): Dropout(p=0.0, inplace=False)\n",
      "    (attn_drop): Dropout(p=0.0, inplace=False)\n",
      "    (leaky_relu): LeakyReLU(negative_slope=0.2)\n",
      "  )\n",
      ")\n"
     ]
    }
   ],
   "metadata": {}
  },
  {
   "cell_type": "code",
   "execution_count": 16,
   "source": [
    "optimizer = torch.optim.Adam(\n",
    "    model.parameters(), lr=hp[\"lr\"], weight_decay=hp[\"l2_penalty\"]\n",
    ")\n",
    "\n",
    "device = torch.device(\"cuda\" if torch.cuda.is_available() else \"cpu\")"
   ],
   "outputs": [],
   "metadata": {}
  },
  {
   "cell_type": "code",
   "execution_count": 17,
   "source": [
    "from datetime import datetime\n",
    "\n",
    "from tgml.metrics import Accuracy\n",
    "from torch.utils.tensorboard import SummaryWriter"
   ],
   "outputs": [],
   "metadata": {}
  },
  {
   "cell_type": "code",
   "execution_count": 19,
   "source": [
    "log_dir = \"logs/cora/gcn/wholegraph/\" + datetime.now().strftime(\"%Y%m%d-%H%M%S\")\n",
    "tb_log = SummaryWriter(log_dir)\n",
    "logs = {}\n",
    "data = data.to(device)\n",
    "for epoch in range(20):\n",
    "    # Train\n",
    "    model.train()\n",
    "    acc = Accuracy()\n",
    "    # Forward pass\n",
    "    out = model(data, data.ndata[\"feat\"])\n",
    "    # Calculate loss\n",
    "    loss = F.cross_entropy(out[data.ndata[\"train_mask\"]], data.ndata[\"label\"][data.ndata[\"train_mask\"]])\n",
    "    # Backward pass\n",
    "    optimizer.zero_grad()\n",
    "    loss.backward()\n",
    "    optimizer.step()\n",
    "    # Evaluate\n",
    "    val_acc = Accuracy()\n",
    "    with torch.no_grad():\n",
    "        pred = out.argmax(dim=1)\n",
    "        acc.update(pred[data.ndata[\"train_mask\"]], data.ndata[\"label\"][data.ndata[\"train_mask\"]])\n",
    "        valid_loss = F.cross_entropy(out[data.ndata[\"val_mask\"]], data.ndata[\"label\"][data.ndata[\"val_mask\"]])\n",
    "        val_acc.update(pred[data.ndata[\"val_mask\"]], data.ndata[\"label\"][data.ndata[\"val_mask\"]])\n",
    "    # Logging\n",
    "    logs[\"loss\"] = loss.item()\n",
    "    logs[\"val_loss\"] = valid_loss.item()\n",
    "    logs[\"acc\"] = acc.value\n",
    "    logs[\"val_acc\"] = val_acc.value\n",
    "    print(\n",
    "        \"Epoch: {:02d}, Train Loss: {:.4f}, Valid Loss: {:.4f}, Train Accuracy: {:.4f}, Valid Accuracy: {:.4f}\".format(\n",
    "            epoch, logs[\"loss\"], logs[\"val_loss\"], logs[\"acc\"], logs[\"val_acc\"]\n",
    "        )\n",
    "    )\n",
    "    tb_log.add_scalars(\n",
    "        \"Loss\", {\"Train\": logs[\"loss\"], \"Validation\": logs[\"val_loss\"]}, epoch\n",
    "    )\n",
    "    tb_log.add_scalars(\n",
    "        \"Accuracy\", {\"Train\": logs[\"acc\"], \"Validation\": logs[\"val_acc\"]}, epoch\n",
    "    )\n",
    "    tb_log.flush()"
   ],
   "outputs": [
    {
     "output_type": "stream",
     "name": "stdout",
     "text": [
      "Epoch: 00, Train Loss: 0.1269, Valid Loss: 0.5290, Train Accuracy: 0.9597, Valid Accuracy: 0.8608\n",
      "Epoch: 01, Train Loss: 0.1221, Valid Loss: 0.5350, Train Accuracy: 0.9629, Valid Accuracy: 0.8608\n",
      "Epoch: 02, Train Loss: 0.1175, Valid Loss: 0.5416, Train Accuracy: 0.9643, Valid Accuracy: 0.8535\n",
      "Epoch: 03, Train Loss: 0.1129, Valid Loss: 0.5477, Train Accuracy: 0.9661, Valid Accuracy: 0.8498\n",
      "Epoch: 04, Train Loss: 0.1088, Valid Loss: 0.5521, Train Accuracy: 0.9711, Valid Accuracy: 0.8498\n",
      "Epoch: 05, Train Loss: 0.1049, Valid Loss: 0.5538, Train Accuracy: 0.9698, Valid Accuracy: 0.8498\n",
      "Epoch: 06, Train Loss: 0.1010, Valid Loss: 0.5527, Train Accuracy: 0.9711, Valid Accuracy: 0.8535\n",
      "Epoch: 07, Train Loss: 0.0975, Valid Loss: 0.5501, Train Accuracy: 0.9716, Valid Accuracy: 0.8571\n",
      "Epoch: 08, Train Loss: 0.0952, Valid Loss: 0.5475, Train Accuracy: 0.9739, Valid Accuracy: 0.8571\n",
      "Epoch: 09, Train Loss: 0.0936, Valid Loss: 0.5462, Train Accuracy: 0.9757, Valid Accuracy: 0.8498\n",
      "Epoch: 10, Train Loss: 0.0914, Valid Loss: 0.5463, Train Accuracy: 0.9753, Valid Accuracy: 0.8498\n",
      "Epoch: 11, Train Loss: 0.0886, Valid Loss: 0.5474, Train Accuracy: 0.9789, Valid Accuracy: 0.8498\n",
      "Epoch: 12, Train Loss: 0.0859, Valid Loss: 0.5498, Train Accuracy: 0.9794, Valid Accuracy: 0.8498\n",
      "Epoch: 13, Train Loss: 0.0838, Valid Loss: 0.5541, Train Accuracy: 0.9803, Valid Accuracy: 0.8498\n",
      "Epoch: 14, Train Loss: 0.0822, Valid Loss: 0.5594, Train Accuracy: 0.9817, Valid Accuracy: 0.8535\n",
      "Epoch: 15, Train Loss: 0.0805, Valid Loss: 0.5649, Train Accuracy: 0.9831, Valid Accuracy: 0.8535\n",
      "Epoch: 16, Train Loss: 0.0783, Valid Loss: 0.5696, Train Accuracy: 0.9849, Valid Accuracy: 0.8535\n",
      "Epoch: 17, Train Loss: 0.0760, Valid Loss: 0.5742, Train Accuracy: 0.9853, Valid Accuracy: 0.8498\n",
      "Epoch: 18, Train Loss: 0.0740, Valid Loss: 0.5797, Train Accuracy: 0.9876, Valid Accuracy: 0.8462\n",
      "Epoch: 19, Train Loss: 0.0721, Valid Loss: 0.5860, Train Accuracy: 0.9881, Valid Accuracy: 0.8462\n"
     ]
    }
   ],
   "metadata": {}
  },
  {
   "cell_type": "code",
   "execution_count": 20,
   "source": [
    "model.eval()\n",
    "acc = Accuracy()\n",
    "with torch.no_grad():\n",
    "    pred = model(data, data.ndata[\"feat\"]).argmax(dim=1)\n",
    "    acc.update(pred[data.ndata[\"test_mask\"]], data.ndata[\"label\"][data.ndata[\"test_mask\"]])\n",
    "print(\"Accuracy: {:.4f}\".format(acc.value))"
   ],
   "outputs": [
    {
     "output_type": "stream",
     "name": "stdout",
     "text": [
      "Accuracy: 0.8254\n"
     ]
    }
   ],
   "metadata": {}
  },
  {
   "cell_type": "markdown",
   "source": [
    "## Train on Neighborhood Subgraphs <a name=\"train_subgraph\"></a>\n",
    "Alternatively, we train the model on the neighborhood subgraphs. Each subgraph contains the 2 hop neighborhood of certain seed vertices. This method  will allow us to train the model on graphs that are way larger than the CORA dataset because we don't load the whole graph into memory all at once. \n",
    "\n",
    "We will use the same parameters as before, but we will use the NeighborLoader to load subgraphs. Once we finish iterating over all the subgraphs generated by the loader, it is guaranteed to cover all vertices in the graph (except for those filtered by a user provided mask). "
   ],
   "metadata": {}
  },
  {
   "cell_type": "code",
   "execution_count": 21,
   "source": [
    "# Hyperparameters\n",
    "hp = {\"batch_size\": 64, \n",
    "      \"num_neighbors\": 10, \n",
    "      \"num_hops\": 2, \n",
    "      \"hidden_dim\": 64, \n",
    "      \"num_layers\": 2, \n",
    "      \"dropout\": 0.6, \n",
    "      \"lr\": 0.01, \n",
    "      \"l2_penalty\": 5e-4}"
   ],
   "outputs": [],
   "metadata": {}
  },
  {
   "cell_type": "markdown",
   "source": [
    "### Construct neighborhood subgraph loader"
   ],
   "metadata": {}
  },
  {
   "cell_type": "code",
   "execution_count": 22,
   "source": [
    "from tgml.dataloaders import NeighborLoader"
   ],
   "outputs": [],
   "metadata": {}
  },
  {
   "cell_type": "markdown",
   "source": [
    "Here we construct 3 subgraph loaders. The `train_loader` only uses vertices in the training set as seeds, the `valid_loader` only uses vertices in the validation set, and the `test_loader` only uses vertices in the test set."
   ],
   "metadata": {}
  },
  {
   "cell_type": "code",
   "execution_count": 23,
   "source": [
    "train_loader = NeighborLoader(\n",
    "    graph=tgraph,\n",
    "    tmp_id=\"tmp_id\",\n",
    "    v_in_feats=\"x\",\n",
    "    v_out_labels=\"y:int\",\n",
    "    v_extra_feats=\"train_mask:bool,val_mask:bool,test_mask:bool\",\n",
    "    output_format=\"DGL\",\n",
    "    batch_size=hp[\"batch_size\"],\n",
    "    num_neighbors=hp[\"num_neighbors\"],\n",
    "    num_hops=hp[\"num_hops\"],\n",
    "    shuffle=True,\n",
    "    filter_by=\"train_mask\",\n",
    "    add_self_loop=True\n",
    ")"
   ],
   "outputs": [],
   "metadata": {}
  },
  {
   "cell_type": "code",
   "execution_count": 24,
   "source": [
    "valid_loader = NeighborLoader(\n",
    "    graph=tgraph,\n",
    "    tmp_id=\"tmp_id2\",\n",
    "    v_in_feats=\"x\",\n",
    "    v_out_labels=\"y:int\",\n",
    "    v_extra_feats=\"train_mask:bool,val_mask:bool,test_mask:bool\",\n",
    "    output_format=\"DGL\",\n",
    "    batch_size=hp[\"batch_size\"],\n",
    "    num_neighbors=hp[\"num_neighbors\"],\n",
    "    num_hops=hp[\"num_hops\"],\n",
    "    shuffle=False,\n",
    "    filter_by=\"val_mask\",\n",
    "    add_self_loop=True\n",
    ")"
   ],
   "outputs": [],
   "metadata": {}
  },
  {
   "cell_type": "code",
   "execution_count": 25,
   "source": [
    "test_loader = NeighborLoader(\n",
    "    graph=tgraph,\n",
    "    tmp_id=\"tmp_id3\",\n",
    "    v_in_feats=\"x\",\n",
    "    v_out_labels=\"y:int\",\n",
    "    v_extra_feats=\"train_mask:bool,val_mask:bool,test_mask:bool\",\n",
    "    output_format=\"DGL\",\n",
    "    batch_size=hp[\"batch_size\"],\n",
    "    num_neighbors=hp[\"num_neighbors\"],\n",
    "    num_hops=hp[\"num_hops\"],\n",
    "    shuffle=False,\n",
    "    filter_by=\"test_mask\",\n",
    "    add_self_loop=True\n",
    ")"
   ],
   "outputs": [],
   "metadata": {}
  },
  {
   "cell_type": "markdown",
   "source": [
    "### Construct model and optimizer\n",
    "We build a GCN model with 2 convolutional layers, and use the Adam optimizer with a learning rate of 0.01."
   ],
   "metadata": {}
  },
  {
   "cell_type": "code",
   "execution_count": 27,
   "source": [
    "device = torch.device(\"cuda\" if torch.cuda.is_available() else \"cpu\")\n",
    "\n",
    "model = GAT().to(device)\n",
    "\n",
    "optimizer = torch.optim.Adam(\n",
    "    model.parameters(), lr=hp[\"lr\"], weight_decay=hp[\"l2_penalty\"]\n",
    ")"
   ],
   "outputs": [],
   "metadata": {}
  },
  {
   "cell_type": "markdown",
   "source": [
    "### Train the model"
   ],
   "metadata": {}
  },
  {
   "cell_type": "code",
   "execution_count": 28,
   "source": [
    "from datetime import datetime\n",
    "\n",
    "from tgml.metrics import Accumulator, Accuracy\n",
    "from torch.utils.tensorboard import SummaryWriter"
   ],
   "outputs": [],
   "metadata": {}
  },
  {
   "cell_type": "code",
   "execution_count": 29,
   "source": [
    "log_dir = \"logs/cora/gcn/subgraph/\" + datetime.now().strftime(\"%Y%m%d-%H%M%S\")\n",
    "train_log = SummaryWriter(log_dir+\"/train\")\n",
    "valid_log = SummaryWriter(log_dir+\"/valid\")\n",
    "global_steps = 0\n",
    "logs = {}\n",
    "for epoch in range(10):\n",
    "    # Train\n",
    "    model.train()\n",
    "    epoch_train_loss = Accumulator()\n",
    "    epoch_train_acc = Accuracy()\n",
    "    for bid, batch in enumerate(train_loader):\n",
    "        batchsize = batch.num_nodes()\n",
    "        batch.to(device)\n",
    "        # Forward pass\n",
    "        out = model(batch, batch.ndata[\"feat\"])\n",
    "        # Calculate loss\n",
    "        loss = F.cross_entropy(out[batch.ndata[\"train_mask\"]], batch.ndata[\"label\"][batch.ndata[\"train_mask\"]])\n",
    "        # Backward pass\n",
    "        optimizer.zero_grad()\n",
    "        loss.backward()\n",
    "        optimizer.step()\n",
    "        epoch_train_loss.update(loss.item() * batchsize, batchsize)\n",
    "        # Predict on training data\n",
    "        with torch.no_grad():\n",
    "            pred = out.argmax(dim=1)\n",
    "            epoch_train_acc.update(pred[batch.ndata[\"train_mask\"]], batch.ndata[\"label\"][batch.ndata[\"train_mask\"]])\n",
    "        # Log training status after each batch\n",
    "        logs[\"loss\"] = epoch_train_loss.mean\n",
    "        logs[\"acc\"] = epoch_train_acc.value\n",
    "        print(\n",
    "            \"Epoch {}, Train Batch {}, Loss {:.4f}, Accuracy {:.4f}\".format(\n",
    "                epoch, bid, logs[\"loss\"], logs[\"acc\"]\n",
    "            )\n",
    "        )\n",
    "        train_log.add_scalar(\"Loss\", logs[\"loss\"], global_steps)\n",
    "        train_log.add_scalar(\"Accuracy\", logs[\"acc\"], global_steps)\n",
    "        train_log.flush()\n",
    "        global_steps += 1\n",
    "    # Evaluate\n",
    "    model.eval()\n",
    "    epoch_val_loss = Accumulator()\n",
    "    epoch_val_acc = Accuracy()\n",
    "    for batch in valid_loader:\n",
    "        batchsize = batch.num_nodes()\n",
    "        batch.to(device)\n",
    "        with torch.no_grad():\n",
    "            # Forward pass\n",
    "            out = model(batch, batch.ndata[\"feat\"])\n",
    "            # Calculate loss\n",
    "            valid_loss = F.cross_entropy(out[batch.ndata[\"val_mask\"]], batch.ndata[\"label\"][batch.ndata[\"val_mask\"]])\n",
    "            epoch_val_loss.update(valid_loss.item() * batchsize, batchsize)\n",
    "            # Prediction\n",
    "            pred = out.argmax(dim=1)\n",
    "            epoch_val_acc.update(pred[batch.ndata[\"val_mask\"]], batch.ndata[\"label\"][batch.ndata[\"val_mask\"]])\n",
    "    # Log testing result after each epoch\n",
    "    logs[\"val_loss\"] = epoch_val_loss.mean\n",
    "    logs[\"val_acc\"] = epoch_val_acc.value\n",
    "    print(\n",
    "        \"Epoch {}, Valid Loss {:.4f}, Valid Accuracy {:.4f}\".format(\n",
    "            epoch, logs[\"val_loss\"], logs[\"val_acc\"]\n",
    "        )\n",
    "    )\n",
    "    valid_log.add_scalar(\"Loss\", logs[\"val_loss\"], global_steps)\n",
    "    valid_log.add_scalar(\"Accuracy\", logs[\"val_acc\"], global_steps)\n",
    "    valid_log.flush()"
   ],
   "outputs": [
    {
     "output_type": "stream",
     "name": "stdout",
     "text": [
      "Epoch 0, Train Batch 0, Loss 1.9863, Accuracy 0.0893\n",
      "Epoch 0, Train Batch 1, Loss 1.7051, Accuracy 0.2413\n",
      "Epoch 0, Train Batch 2, Loss 1.4665, Accuracy 0.3805\n",
      "Epoch 0, Train Batch 3, Loss 1.2866, Accuracy 0.4883\n",
      "Epoch 0, Train Batch 4, Loss 1.1760, Accuracy 0.5415\n",
      "Epoch 0, Train Batch 5, Loss 1.1124, Accuracy 0.5774\n",
      "Epoch 0, Train Batch 6, Loss 1.0474, Accuracy 0.6090\n",
      "Epoch 0, Train Batch 7, Loss 1.0048, Accuracy 0.6308\n",
      "Epoch 0, Train Batch 8, Loss 0.9631, Accuracy 0.6514\n",
      "Epoch 0, Train Batch 9, Loss 0.9327, Accuracy 0.6687\n",
      "Epoch 0, Train Batch 10, Loss 0.8937, Accuracy 0.6896\n",
      "Epoch 0, Train Batch 11, Loss 0.8704, Accuracy 0.7031\n",
      "Epoch 0, Train Batch 12, Loss 0.8498, Accuracy 0.7104\n",
      "Epoch 0, Train Batch 13, Loss 0.8352, Accuracy 0.7183\n",
      "Epoch 0, Train Batch 14, Loss 0.8093, Accuracy 0.7278\n",
      "Epoch 0, Train Batch 15, Loss 0.8047, Accuracy 0.7298\n",
      "Epoch 0, Train Batch 16, Loss 0.7950, Accuracy 0.7353\n",
      "Epoch 0, Train Batch 17, Loss 0.7817, Accuracy 0.7420\n",
      "Epoch 0, Train Batch 18, Loss 0.7681, Accuracy 0.7468\n",
      "Epoch 0, Train Batch 19, Loss 0.7608, Accuracy 0.7500\n",
      "Epoch 0, Train Batch 20, Loss 0.7442, Accuracy 0.7555\n",
      "Epoch 0, Train Batch 21, Loss 0.7322, Accuracy 0.7596\n",
      "Epoch 0, Train Batch 22, Loss 0.7241, Accuracy 0.7636\n",
      "Epoch 0, Train Batch 23, Loss 0.7182, Accuracy 0.7660\n",
      "Epoch 0, Train Batch 24, Loss 0.7101, Accuracy 0.7690\n",
      "Epoch 0, Train Batch 25, Loss 0.6975, Accuracy 0.7729\n",
      "Epoch 0, Train Batch 26, Loss 0.6920, Accuracy 0.7748\n",
      "Epoch 0, Train Batch 27, Loss 0.6839, Accuracy 0.7775\n",
      "Epoch 0, Train Batch 28, Loss 0.6762, Accuracy 0.7796\n",
      "Epoch 0, Train Batch 29, Loss 0.6663, Accuracy 0.7824\n",
      "Epoch 0, Train Batch 30, Loss 0.6612, Accuracy 0.7846\n",
      "Epoch 0, Train Batch 31, Loss 0.6550, Accuracy 0.7869\n",
      "Epoch 0, Train Batch 32, Loss 0.6520, Accuracy 0.7876\n",
      "Epoch 0, Train Batch 33, Loss 0.6449, Accuracy 0.7898\n",
      "Epoch 0, Train Batch 34, Loss 0.6385, Accuracy 0.7919\n",
      "Epoch 0, Valid Loss 0.5209, Valid Accuracy 0.8519\n",
      "Epoch 1, Train Batch 0, Loss 0.3584, Accuracy 0.8947\n",
      "Epoch 1, Train Batch 1, Loss 0.4128, Accuracy 0.8704\n",
      "Epoch 1, Train Batch 2, Loss 0.4273, Accuracy 0.8619\n",
      "Epoch 1, Train Batch 3, Loss 0.4071, Accuracy 0.8683\n",
      "Epoch 1, Train Batch 4, Loss 0.4024, Accuracy 0.8698\n",
      "Epoch 1, Train Batch 5, Loss 0.3983, Accuracy 0.8724\n",
      "Epoch 1, Train Batch 6, Loss 0.3992, Accuracy 0.8696\n",
      "Epoch 1, Train Batch 7, Loss 0.4068, Accuracy 0.8693\n",
      "Epoch 1, Train Batch 8, Loss 0.4117, Accuracy 0.8681\n",
      "Epoch 1, Train Batch 9, Loss 0.4140, Accuracy 0.8658\n",
      "Epoch 1, Train Batch 10, Loss 0.4135, Accuracy 0.8654\n",
      "Epoch 1, Train Batch 11, Loss 0.4123, Accuracy 0.8648\n",
      "Epoch 1, Train Batch 12, Loss 0.4073, Accuracy 0.8655\n",
      "Epoch 1, Train Batch 13, Loss 0.4134, Accuracy 0.8625\n",
      "Epoch 1, Train Batch 14, Loss 0.4093, Accuracy 0.8640\n",
      "Epoch 1, Train Batch 15, Loss 0.4172, Accuracy 0.8606\n",
      "Epoch 1, Train Batch 16, Loss 0.4172, Accuracy 0.8610\n",
      "Epoch 1, Train Batch 17, Loss 0.4133, Accuracy 0.8619\n",
      "Epoch 1, Train Batch 18, Loss 0.4108, Accuracy 0.8627\n",
      "Epoch 1, Train Batch 19, Loss 0.4097, Accuracy 0.8639\n",
      "Epoch 1, Train Batch 20, Loss 0.4082, Accuracy 0.8644\n",
      "Epoch 1, Train Batch 21, Loss 0.4099, Accuracy 0.8632\n",
      "Epoch 1, Train Batch 22, Loss 0.4074, Accuracy 0.8637\n",
      "Epoch 1, Train Batch 23, Loss 0.4089, Accuracy 0.8630\n",
      "Epoch 1, Train Batch 24, Loss 0.4107, Accuracy 0.8620\n",
      "Epoch 1, Train Batch 25, Loss 0.4118, Accuracy 0.8618\n",
      "Epoch 1, Train Batch 26, Loss 0.4105, Accuracy 0.8619\n",
      "Epoch 1, Train Batch 27, Loss 0.4100, Accuracy 0.8619\n",
      "Epoch 1, Train Batch 28, Loss 0.4137, Accuracy 0.8604\n",
      "Epoch 1, Train Batch 29, Loss 0.4119, Accuracy 0.8611\n",
      "Epoch 1, Train Batch 30, Loss 0.4150, Accuracy 0.8601\n",
      "Epoch 1, Train Batch 31, Loss 0.4163, Accuracy 0.8594\n",
      "Epoch 1, Train Batch 32, Loss 0.4181, Accuracy 0.8591\n",
      "Epoch 1, Train Batch 33, Loss 0.4186, Accuracy 0.8592\n",
      "Epoch 1, Train Batch 34, Loss 0.4171, Accuracy 0.8597\n",
      "Epoch 1, Valid Loss 0.5219, Valid Accuracy 0.8025\n",
      "Epoch 2, Train Batch 0, Loss 0.3139, Accuracy 0.8949\n",
      "Epoch 2, Train Batch 1, Loss 0.3795, Accuracy 0.8707\n",
      "Epoch 2, Train Batch 2, Loss 0.3814, Accuracy 0.8712\n",
      "Epoch 2, Train Batch 3, Loss 0.3739, Accuracy 0.8764\n",
      "Epoch 2, Train Batch 4, Loss 0.4028, Accuracy 0.8647\n",
      "Epoch 2, Train Batch 5, Loss 0.4039, Accuracy 0.8635\n",
      "Epoch 2, Train Batch 6, Loss 0.4020, Accuracy 0.8623\n",
      "Epoch 2, Train Batch 7, Loss 0.3927, Accuracy 0.8657\n",
      "Epoch 2, Train Batch 8, Loss 0.3945, Accuracy 0.8658\n",
      "Epoch 2, Train Batch 9, Loss 0.3922, Accuracy 0.8666\n",
      "Epoch 2, Train Batch 10, Loss 0.3911, Accuracy 0.8661\n",
      "Epoch 2, Train Batch 11, Loss 0.3843, Accuracy 0.8688\n",
      "Epoch 2, Train Batch 12, Loss 0.3830, Accuracy 0.8691\n",
      "Epoch 2, Train Batch 13, Loss 0.3890, Accuracy 0.8672\n",
      "Epoch 2, Train Batch 14, Loss 0.3881, Accuracy 0.8682\n",
      "Epoch 2, Train Batch 15, Loss 0.3867, Accuracy 0.8691\n",
      "Epoch 2, Train Batch 16, Loss 0.3862, Accuracy 0.8697\n",
      "Epoch 2, Train Batch 17, Loss 0.3868, Accuracy 0.8699\n",
      "Epoch 2, Train Batch 18, Loss 0.3845, Accuracy 0.8706\n",
      "Epoch 2, Train Batch 19, Loss 0.3853, Accuracy 0.8704\n",
      "Epoch 2, Train Batch 20, Loss 0.3890, Accuracy 0.8687\n",
      "Epoch 2, Train Batch 21, Loss 0.3895, Accuracy 0.8679\n",
      "Epoch 2, Train Batch 22, Loss 0.3919, Accuracy 0.8675\n",
      "Epoch 2, Train Batch 23, Loss 0.3905, Accuracy 0.8674\n",
      "Epoch 2, Train Batch 24, Loss 0.3957, Accuracy 0.8654\n",
      "Epoch 2, Train Batch 25, Loss 0.3961, Accuracy 0.8654\n",
      "Epoch 2, Train Batch 26, Loss 0.3963, Accuracy 0.8659\n",
      "Epoch 2, Train Batch 27, Loss 0.3962, Accuracy 0.8658\n",
      "Epoch 2, Train Batch 28, Loss 0.3937, Accuracy 0.8671\n",
      "Epoch 2, Train Batch 29, Loss 0.3945, Accuracy 0.8666\n",
      "Epoch 2, Train Batch 30, Loss 0.3945, Accuracy 0.8667\n",
      "Epoch 2, Train Batch 31, Loss 0.3960, Accuracy 0.8655\n",
      "Epoch 2, Train Batch 32, Loss 0.3974, Accuracy 0.8654\n",
      "Epoch 2, Train Batch 33, Loss 0.3999, Accuracy 0.8647\n",
      "Epoch 2, Train Batch 34, Loss 0.4029, Accuracy 0.8642\n",
      "Epoch 2, Valid Loss 0.5078, Valid Accuracy 0.8286\n",
      "Epoch 3, Train Batch 0, Loss 0.3651, Accuracy 0.8852\n",
      "Epoch 3, Train Batch 1, Loss 0.3622, Accuracy 0.8847\n",
      "Epoch 3, Train Batch 2, Loss 0.3629, Accuracy 0.8847\n",
      "Epoch 3, Train Batch 3, Loss 0.3804, Accuracy 0.8738\n",
      "Epoch 3, Train Batch 4, Loss 0.3719, Accuracy 0.8746\n",
      "Epoch 3, Train Batch 5, Loss 0.3845, Accuracy 0.8699\n",
      "Epoch 3, Train Batch 6, Loss 0.3744, Accuracy 0.8724\n",
      "Epoch 3, Train Batch 7, Loss 0.3771, Accuracy 0.8728\n",
      "Epoch 3, Train Batch 8, Loss 0.3720, Accuracy 0.8739\n",
      "Epoch 3, Train Batch 9, Loss 0.3752, Accuracy 0.8734\n",
      "Epoch 3, Train Batch 10, Loss 0.3796, Accuracy 0.8715\n",
      "Epoch 3, Train Batch 11, Loss 0.3769, Accuracy 0.8729\n",
      "Epoch 3, Train Batch 12, Loss 0.3727, Accuracy 0.8739\n",
      "Epoch 3, Train Batch 13, Loss 0.3686, Accuracy 0.8746\n",
      "Epoch 3, Train Batch 14, Loss 0.3686, Accuracy 0.8735\n",
      "Epoch 3, Train Batch 15, Loss 0.3718, Accuracy 0.8727\n",
      "Epoch 3, Train Batch 16, Loss 0.3768, Accuracy 0.8708\n",
      "Epoch 3, Train Batch 17, Loss 0.3793, Accuracy 0.8699\n",
      "Epoch 3, Train Batch 18, Loss 0.3756, Accuracy 0.8714\n",
      "Epoch 3, Train Batch 19, Loss 0.3736, Accuracy 0.8719\n",
      "Epoch 3, Train Batch 20, Loss 0.3737, Accuracy 0.8719\n",
      "Epoch 3, Train Batch 21, Loss 0.3765, Accuracy 0.8714\n",
      "Epoch 3, Train Batch 22, Loss 0.3798, Accuracy 0.8695\n",
      "Epoch 3, Train Batch 23, Loss 0.3824, Accuracy 0.8694\n",
      "Epoch 3, Train Batch 24, Loss 0.3798, Accuracy 0.8700\n",
      "Epoch 3, Train Batch 25, Loss 0.3778, Accuracy 0.8706\n",
      "Epoch 3, Train Batch 26, Loss 0.3779, Accuracy 0.8702\n",
      "Epoch 3, Train Batch 27, Loss 0.3770, Accuracy 0.8710\n",
      "Epoch 3, Train Batch 28, Loss 0.3789, Accuracy 0.8703\n",
      "Epoch 3, Train Batch 29, Loss 0.3774, Accuracy 0.8712\n",
      "Epoch 3, Train Batch 30, Loss 0.3771, Accuracy 0.8716\n",
      "Epoch 3, Train Batch 31, Loss 0.3756, Accuracy 0.8722\n",
      "Epoch 3, Train Batch 32, Loss 0.3776, Accuracy 0.8716\n",
      "Epoch 3, Train Batch 33, Loss 0.3771, Accuracy 0.8723\n",
      "Epoch 3, Train Batch 34, Loss 0.3770, Accuracy 0.8724\n",
      "Epoch 3, Valid Loss 0.4937, Valid Accuracy 0.8460\n",
      "Epoch 4, Train Batch 0, Loss 0.2804, Accuracy 0.9099\n",
      "Epoch 4, Train Batch 1, Loss 0.3053, Accuracy 0.9019\n",
      "Epoch 4, Train Batch 2, Loss 0.3205, Accuracy 0.8968\n",
      "Epoch 4, Train Batch 3, Loss 0.3229, Accuracy 0.8940\n",
      "Epoch 4, Train Batch 4, Loss 0.3209, Accuracy 0.8955\n",
      "Epoch 4, Train Batch 5, Loss 0.3306, Accuracy 0.8906\n",
      "Epoch 4, Train Batch 6, Loss 0.3324, Accuracy 0.8897\n",
      "Epoch 4, Train Batch 7, Loss 0.3431, Accuracy 0.8873\n",
      "Epoch 4, Train Batch 8, Loss 0.3500, Accuracy 0.8845\n",
      "Epoch 4, Train Batch 9, Loss 0.3536, Accuracy 0.8828\n",
      "Epoch 4, Train Batch 10, Loss 0.3527, Accuracy 0.8821\n",
      "Epoch 4, Train Batch 11, Loss 0.3561, Accuracy 0.8808\n",
      "Epoch 4, Train Batch 12, Loss 0.3628, Accuracy 0.8778\n",
      "Epoch 4, Train Batch 13, Loss 0.3673, Accuracy 0.8765\n",
      "Epoch 4, Train Batch 14, Loss 0.3687, Accuracy 0.8766\n",
      "Epoch 4, Train Batch 15, Loss 0.3743, Accuracy 0.8742\n",
      "Epoch 4, Train Batch 16, Loss 0.3750, Accuracy 0.8746\n",
      "Epoch 4, Train Batch 17, Loss 0.3751, Accuracy 0.8742\n",
      "Epoch 4, Train Batch 18, Loss 0.3774, Accuracy 0.8736\n",
      "Epoch 4, Train Batch 19, Loss 0.3818, Accuracy 0.8728\n",
      "Epoch 4, Train Batch 20, Loss 0.3830, Accuracy 0.8720\n",
      "Epoch 4, Train Batch 21, Loss 0.3787, Accuracy 0.8740\n",
      "Epoch 4, Train Batch 22, Loss 0.3731, Accuracy 0.8759\n",
      "Epoch 4, Train Batch 23, Loss 0.3706, Accuracy 0.8764\n",
      "Epoch 4, Train Batch 24, Loss 0.3711, Accuracy 0.8764\n",
      "Epoch 4, Train Batch 25, Loss 0.3746, Accuracy 0.8751\n",
      "Epoch 4, Train Batch 26, Loss 0.3761, Accuracy 0.8747\n",
      "Epoch 4, Train Batch 27, Loss 0.3771, Accuracy 0.8740\n",
      "Epoch 4, Train Batch 28, Loss 0.3781, Accuracy 0.8741\n",
      "Epoch 4, Train Batch 29, Loss 0.3782, Accuracy 0.8742\n",
      "Epoch 4, Train Batch 30, Loss 0.3762, Accuracy 0.8751\n",
      "Epoch 4, Train Batch 31, Loss 0.3767, Accuracy 0.8748\n",
      "Epoch 4, Train Batch 32, Loss 0.3749, Accuracy 0.8753\n",
      "Epoch 4, Train Batch 33, Loss 0.3746, Accuracy 0.8754\n",
      "Epoch 4, Train Batch 34, Loss 0.3757, Accuracy 0.8752\n",
      "Epoch 4, Valid Loss 0.4763, Valid Accuracy 0.8418\n",
      "Epoch 5, Train Batch 0, Loss 0.3786, Accuracy 0.8807\n",
      "Epoch 5, Train Batch 1, Loss 0.3372, Accuracy 0.8929\n",
      "Epoch 5, Train Batch 2, Loss 0.3385, Accuracy 0.8892\n",
      "Epoch 5, Train Batch 3, Loss 0.3377, Accuracy 0.8907\n",
      "Epoch 5, Train Batch 4, Loss 0.3197, Accuracy 0.8935\n",
      "Epoch 5, Train Batch 5, Loss 0.3323, Accuracy 0.8884\n",
      "Epoch 5, Train Batch 6, Loss 0.3463, Accuracy 0.8815\n",
      "Epoch 5, Train Batch 7, Loss 0.3495, Accuracy 0.8814\n",
      "Epoch 5, Train Batch 8, Loss 0.3431, Accuracy 0.8836\n",
      "Epoch 5, Train Batch 9, Loss 0.3422, Accuracy 0.8845\n",
      "Epoch 5, Train Batch 10, Loss 0.3498, Accuracy 0.8818\n",
      "Epoch 5, Train Batch 11, Loss 0.3480, Accuracy 0.8821\n",
      "Epoch 5, Train Batch 12, Loss 0.3514, Accuracy 0.8799\n",
      "Epoch 5, Train Batch 13, Loss 0.3525, Accuracy 0.8794\n",
      "Epoch 5, Train Batch 14, Loss 0.3545, Accuracy 0.8803\n",
      "Epoch 5, Train Batch 15, Loss 0.3525, Accuracy 0.8815\n",
      "Epoch 5, Train Batch 16, Loss 0.3544, Accuracy 0.8811\n",
      "Epoch 5, Train Batch 17, Loss 0.3551, Accuracy 0.8817\n",
      "Epoch 5, Train Batch 18, Loss 0.3565, Accuracy 0.8811\n",
      "Epoch 5, Train Batch 19, Loss 0.3541, Accuracy 0.8825\n",
      "Epoch 5, Train Batch 20, Loss 0.3535, Accuracy 0.8823\n",
      "Epoch 5, Train Batch 21, Loss 0.3521, Accuracy 0.8820\n",
      "Epoch 5, Train Batch 22, Loss 0.3491, Accuracy 0.8836\n",
      "Epoch 5, Train Batch 23, Loss 0.3473, Accuracy 0.8838\n",
      "Epoch 5, Train Batch 24, Loss 0.3508, Accuracy 0.8832\n",
      "Epoch 5, Train Batch 25, Loss 0.3509, Accuracy 0.8829\n",
      "Epoch 5, Train Batch 26, Loss 0.3515, Accuracy 0.8828\n",
      "Epoch 5, Train Batch 27, Loss 0.3532, Accuracy 0.8826\n",
      "Epoch 5, Train Batch 28, Loss 0.3535, Accuracy 0.8823\n",
      "Epoch 5, Train Batch 29, Loss 0.3529, Accuracy 0.8829\n",
      "Epoch 5, Train Batch 30, Loss 0.3535, Accuracy 0.8825\n",
      "Epoch 5, Train Batch 31, Loss 0.3547, Accuracy 0.8819\n",
      "Epoch 5, Train Batch 32, Loss 0.3568, Accuracy 0.8816\n",
      "Epoch 5, Train Batch 33, Loss 0.3580, Accuracy 0.8810\n",
      "Epoch 5, Train Batch 34, Loss 0.3588, Accuracy 0.8809\n",
      "Epoch 5, Valid Loss 0.5367, Valid Accuracy 0.8180\n",
      "Epoch 6, Train Batch 0, Loss 0.2839, Accuracy 0.9001\n",
      "Epoch 6, Train Batch 1, Loss 0.3017, Accuracy 0.8940\n",
      "Epoch 6, Train Batch 2, Loss 0.3320, Accuracy 0.8803\n",
      "Epoch 6, Train Batch 3, Loss 0.3563, Accuracy 0.8726\n",
      "Epoch 6, Train Batch 4, Loss 0.3606, Accuracy 0.8731\n",
      "Epoch 6, Train Batch 5, Loss 0.3454, Accuracy 0.8803\n",
      "Epoch 6, Train Batch 6, Loss 0.3539, Accuracy 0.8779\n",
      "Epoch 6, Train Batch 7, Loss 0.3485, Accuracy 0.8802\n",
      "Epoch 6, Train Batch 8, Loss 0.3485, Accuracy 0.8786\n",
      "Epoch 6, Train Batch 9, Loss 0.3511, Accuracy 0.8794\n",
      "Epoch 6, Train Batch 10, Loss 0.3529, Accuracy 0.8786\n",
      "Epoch 6, Train Batch 11, Loss 0.3516, Accuracy 0.8790\n",
      "Epoch 6, Train Batch 12, Loss 0.3465, Accuracy 0.8810\n",
      "Epoch 6, Train Batch 13, Loss 0.3498, Accuracy 0.8801\n",
      "Epoch 6, Train Batch 14, Loss 0.3518, Accuracy 0.8782\n",
      "Epoch 6, Train Batch 15, Loss 0.3536, Accuracy 0.8778\n",
      "Epoch 6, Train Batch 16, Loss 0.3570, Accuracy 0.8768\n",
      "Epoch 6, Train Batch 17, Loss 0.3554, Accuracy 0.8778\n",
      "Epoch 6, Train Batch 18, Loss 0.3625, Accuracy 0.8763\n",
      "Epoch 6, Train Batch 19, Loss 0.3601, Accuracy 0.8771\n",
      "Epoch 6, Train Batch 20, Loss 0.3550, Accuracy 0.8794\n",
      "Epoch 6, Train Batch 21, Loss 0.3565, Accuracy 0.8788\n",
      "Epoch 6, Train Batch 22, Loss 0.3542, Accuracy 0.8801\n",
      "Epoch 6, Train Batch 23, Loss 0.3534, Accuracy 0.8802\n",
      "Epoch 6, Train Batch 24, Loss 0.3558, Accuracy 0.8796\n",
      "Epoch 6, Train Batch 25, Loss 0.3546, Accuracy 0.8803\n",
      "Epoch 6, Train Batch 26, Loss 0.3541, Accuracy 0.8802\n",
      "Epoch 6, Train Batch 27, Loss 0.3532, Accuracy 0.8812\n",
      "Epoch 6, Train Batch 28, Loss 0.3530, Accuracy 0.8808\n",
      "Epoch 6, Train Batch 29, Loss 0.3549, Accuracy 0.8801\n",
      "Epoch 6, Train Batch 30, Loss 0.3544, Accuracy 0.8806\n",
      "Epoch 6, Train Batch 31, Loss 0.3536, Accuracy 0.8805\n",
      "Epoch 6, Train Batch 32, Loss 0.3555, Accuracy 0.8797\n",
      "Epoch 6, Train Batch 33, Loss 0.3577, Accuracy 0.8793\n",
      "Epoch 6, Train Batch 34, Loss 0.3551, Accuracy 0.8804\n",
      "Epoch 6, Valid Loss 0.5330, Valid Accuracy 0.8447\n",
      "Epoch 7, Train Batch 0, Loss 0.3098, Accuracy 0.8913\n",
      "Epoch 7, Train Batch 1, Loss 0.3378, Accuracy 0.8913\n",
      "Epoch 7, Train Batch 2, Loss 0.3337, Accuracy 0.8903\n",
      "Epoch 7, Train Batch 3, Loss 0.3426, Accuracy 0.8869\n",
      "Epoch 7, Train Batch 4, Loss 0.3355, Accuracy 0.8897\n",
      "Epoch 7, Train Batch 5, Loss 0.3461, Accuracy 0.8872\n",
      "Epoch 7, Train Batch 6, Loss 0.3442, Accuracy 0.8844\n",
      "Epoch 7, Train Batch 7, Loss 0.3404, Accuracy 0.8843\n",
      "Epoch 7, Train Batch 8, Loss 0.3509, Accuracy 0.8803\n",
      "Epoch 7, Train Batch 9, Loss 0.3491, Accuracy 0.8815\n",
      "Epoch 7, Train Batch 10, Loss 0.3493, Accuracy 0.8808\n",
      "Epoch 7, Train Batch 11, Loss 0.3411, Accuracy 0.8843\n",
      "Epoch 7, Train Batch 12, Loss 0.3472, Accuracy 0.8822\n",
      "Epoch 7, Train Batch 13, Loss 0.3493, Accuracy 0.8816\n",
      "Epoch 7, Train Batch 14, Loss 0.3501, Accuracy 0.8812\n",
      "Epoch 7, Train Batch 15, Loss 0.3471, Accuracy 0.8810\n",
      "Epoch 7, Train Batch 16, Loss 0.3413, Accuracy 0.8837\n",
      "Epoch 7, Train Batch 17, Loss 0.3417, Accuracy 0.8845\n",
      "Epoch 7, Train Batch 18, Loss 0.3403, Accuracy 0.8848\n",
      "Epoch 7, Train Batch 19, Loss 0.3420, Accuracy 0.8848\n",
      "Epoch 7, Train Batch 20, Loss 0.3391, Accuracy 0.8860\n",
      "Epoch 7, Train Batch 21, Loss 0.3396, Accuracy 0.8862\n",
      "Epoch 7, Train Batch 22, Loss 0.3452, Accuracy 0.8849\n",
      "Epoch 7, Train Batch 23, Loss 0.3441, Accuracy 0.8847\n",
      "Epoch 7, Train Batch 24, Loss 0.3442, Accuracy 0.8847\n",
      "Epoch 7, Train Batch 25, Loss 0.3452, Accuracy 0.8836\n",
      "Epoch 7, Train Batch 26, Loss 0.3446, Accuracy 0.8836\n",
      "Epoch 7, Train Batch 27, Loss 0.3487, Accuracy 0.8824\n",
      "Epoch 7, Train Batch 28, Loss 0.3505, Accuracy 0.8814\n",
      "Epoch 7, Train Batch 29, Loss 0.3506, Accuracy 0.8820\n",
      "Epoch 7, Train Batch 30, Loss 0.3507, Accuracy 0.8820\n",
      "Epoch 7, Train Batch 31, Loss 0.3501, Accuracy 0.8823\n",
      "Epoch 7, Train Batch 32, Loss 0.3512, Accuracy 0.8820\n",
      "Epoch 7, Train Batch 33, Loss 0.3519, Accuracy 0.8813\n",
      "Epoch 7, Train Batch 34, Loss 0.3546, Accuracy 0.8804\n",
      "Epoch 7, Valid Loss 0.5073, Valid Accuracy 0.8292\n",
      "Epoch 8, Train Batch 0, Loss 0.3580, Accuracy 0.8817\n",
      "Epoch 8, Train Batch 1, Loss 0.3619, Accuracy 0.8841\n",
      "Epoch 8, Train Batch 2, Loss 0.3480, Accuracy 0.8882\n",
      "Epoch 8, Train Batch 3, Loss 0.3429, Accuracy 0.8842\n",
      "Epoch 8, Train Batch 4, Loss 0.3411, Accuracy 0.8881\n",
      "Epoch 8, Train Batch 5, Loss 0.3331, Accuracy 0.8898\n",
      "Epoch 8, Train Batch 6, Loss 0.3378, Accuracy 0.8881\n",
      "Epoch 8, Train Batch 7, Loss 0.3459, Accuracy 0.8848\n",
      "Epoch 8, Train Batch 8, Loss 0.3401, Accuracy 0.8850\n",
      "Epoch 8, Train Batch 9, Loss 0.3398, Accuracy 0.8853\n",
      "Epoch 8, Train Batch 10, Loss 0.3468, Accuracy 0.8836\n",
      "Epoch 8, Train Batch 11, Loss 0.3462, Accuracy 0.8839\n",
      "Epoch 8, Train Batch 12, Loss 0.3565, Accuracy 0.8813\n",
      "Epoch 8, Train Batch 13, Loss 0.3549, Accuracy 0.8818\n",
      "Epoch 8, Train Batch 14, Loss 0.3595, Accuracy 0.8810\n",
      "Epoch 8, Train Batch 15, Loss 0.3594, Accuracy 0.8805\n",
      "Epoch 8, Train Batch 16, Loss 0.3559, Accuracy 0.8815\n",
      "Epoch 8, Train Batch 17, Loss 0.3590, Accuracy 0.8795\n",
      "Epoch 8, Train Batch 18, Loss 0.3590, Accuracy 0.8798\n",
      "Epoch 8, Train Batch 19, Loss 0.3587, Accuracy 0.8800\n",
      "Epoch 8, Train Batch 20, Loss 0.3573, Accuracy 0.8803\n",
      "Epoch 8, Train Batch 21, Loss 0.3561, Accuracy 0.8812\n",
      "Epoch 8, Train Batch 22, Loss 0.3566, Accuracy 0.8808\n",
      "Epoch 8, Train Batch 23, Loss 0.3567, Accuracy 0.8807\n",
      "Epoch 8, Train Batch 24, Loss 0.3553, Accuracy 0.8810\n",
      "Epoch 8, Train Batch 25, Loss 0.3528, Accuracy 0.8824\n",
      "Epoch 8, Train Batch 26, Loss 0.3499, Accuracy 0.8831\n",
      "Epoch 8, Train Batch 27, Loss 0.3514, Accuracy 0.8827\n",
      "Epoch 8, Train Batch 28, Loss 0.3517, Accuracy 0.8823\n",
      "Epoch 8, Train Batch 29, Loss 0.3512, Accuracy 0.8825\n",
      "Epoch 8, Train Batch 30, Loss 0.3503, Accuracy 0.8830\n",
      "Epoch 8, Train Batch 31, Loss 0.3491, Accuracy 0.8835\n",
      "Epoch 8, Train Batch 32, Loss 0.3517, Accuracy 0.8827\n",
      "Epoch 8, Train Batch 33, Loss 0.3505, Accuracy 0.8832\n",
      "Epoch 8, Train Batch 34, Loss 0.3497, Accuracy 0.8834\n",
      "Epoch 8, Valid Loss 0.5674, Valid Accuracy 0.8275\n",
      "Epoch 9, Train Batch 0, Loss 0.2803, Accuracy 0.8999\n",
      "Epoch 9, Train Batch 1, Loss 0.3200, Accuracy 0.8880\n",
      "Epoch 9, Train Batch 2, Loss 0.3408, Accuracy 0.8819\n",
      "Epoch 9, Train Batch 3, Loss 0.3454, Accuracy 0.8840\n",
      "Epoch 9, Train Batch 4, Loss 0.3469, Accuracy 0.8854\n",
      "Epoch 9, Train Batch 5, Loss 0.3480, Accuracy 0.8858\n",
      "Epoch 9, Train Batch 6, Loss 0.3440, Accuracy 0.8867\n",
      "Epoch 9, Train Batch 7, Loss 0.3411, Accuracy 0.8888\n",
      "Epoch 9, Train Batch 8, Loss 0.3383, Accuracy 0.8897\n",
      "Epoch 9, Train Batch 9, Loss 0.3430, Accuracy 0.8865\n",
      "Epoch 9, Train Batch 10, Loss 0.3438, Accuracy 0.8845\n",
      "Epoch 9, Train Batch 11, Loss 0.3436, Accuracy 0.8846\n",
      "Epoch 9, Train Batch 12, Loss 0.3423, Accuracy 0.8850\n",
      "Epoch 9, Train Batch 13, Loss 0.3422, Accuracy 0.8851\n",
      "Epoch 9, Train Batch 14, Loss 0.3425, Accuracy 0.8850\n",
      "Epoch 9, Train Batch 15, Loss 0.3395, Accuracy 0.8861\n",
      "Epoch 9, Train Batch 16, Loss 0.3362, Accuracy 0.8873\n",
      "Epoch 9, Train Batch 17, Loss 0.3338, Accuracy 0.8878\n",
      "Epoch 9, Train Batch 18, Loss 0.3300, Accuracy 0.8893\n",
      "Epoch 9, Train Batch 19, Loss 0.3305, Accuracy 0.8897\n",
      "Epoch 9, Train Batch 20, Loss 0.3312, Accuracy 0.8885\n",
      "Epoch 9, Train Batch 21, Loss 0.3286, Accuracy 0.8891\n",
      "Epoch 9, Train Batch 22, Loss 0.3329, Accuracy 0.8875\n",
      "Epoch 9, Train Batch 23, Loss 0.3341, Accuracy 0.8870\n",
      "Epoch 9, Train Batch 24, Loss 0.3357, Accuracy 0.8862\n",
      "Epoch 9, Train Batch 25, Loss 0.3339, Accuracy 0.8869\n",
      "Epoch 9, Train Batch 26, Loss 0.3355, Accuracy 0.8861\n",
      "Epoch 9, Train Batch 27, Loss 0.3353, Accuracy 0.8867\n",
      "Epoch 9, Train Batch 28, Loss 0.3366, Accuracy 0.8859\n",
      "Epoch 9, Train Batch 29, Loss 0.3397, Accuracy 0.8838\n",
      "Epoch 9, Train Batch 30, Loss 0.3379, Accuracy 0.8845\n",
      "Epoch 9, Train Batch 31, Loss 0.3367, Accuracy 0.8848\n",
      "Epoch 9, Train Batch 32, Loss 0.3358, Accuracy 0.8850\n",
      "Epoch 9, Train Batch 33, Loss 0.3377, Accuracy 0.8845\n",
      "Epoch 9, Train Batch 34, Loss 0.3381, Accuracy 0.8842\n",
      "Epoch 9, Valid Loss 0.5143, Valid Accuracy 0.8271\n"
     ]
    }
   ],
   "metadata": {}
  },
  {
   "cell_type": "markdown",
   "source": [
    "### Test the model"
   ],
   "metadata": {}
  },
  {
   "cell_type": "code",
   "execution_count": 30,
   "source": [
    "model.eval()\n",
    "acc = Accuracy()\n",
    "for batch in test_loader:\n",
    "    batch.to(device)\n",
    "    with torch.no_grad():\n",
    "        pred = model(batch, batch.ndata[\"feat\"]).argmax(dim=1)\n",
    "        acc.update(pred[batch.ndata[\"test_mask\"]], batch.ndata[\"label\"][batch.ndata[\"test_mask\"]])\n",
    "print(\"Accuracy: {:.4f}\".format(acc.value))"
   ],
   "outputs": [
    {
     "output_type": "stream",
     "name": "stdout",
     "text": [
      "Accuracy: 0.8208\n"
     ]
    }
   ],
   "metadata": {}
  },
  {
   "cell_type": "code",
   "execution_count": null,
   "source": [],
   "outputs": [],
   "metadata": {}
  }
 ],
 "metadata": {
  "orig_nbformat": 4,
  "language_info": {
   "name": "python",
   "version": "3.9.7",
   "mimetype": "text/x-python",
   "codemirror_mode": {
    "name": "ipython",
    "version": 3
   },
   "pygments_lexer": "ipython3",
   "nbconvert_exporter": "python",
   "file_extension": ".py"
  },
  "kernelspec": {
   "name": "python3",
   "display_name": "Python 3.9.7 64-bit ('dgltest': conda)"
  },
  "interpreter": {
   "hash": "8f66b71ca8719224ea73d64d6de76d0f6144fbc22674b30b02bd18d44d337481"
  }
 },
 "nbformat": 4,
 "nbformat_minor": 2
}