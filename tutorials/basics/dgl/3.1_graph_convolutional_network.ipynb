{
 "cells": [
  {
   "cell_type": "markdown",
   "source": [
    "# Graph Convolutional Network\n",
    "This notebook demonstrates the training of [Graph Convolutional Networks (GCN)](https://arxiv.org/pdf/1609.02907.pdf) with TigerGraph. [DGL](https://www.dgl.ai/)'s implementation of GCN is used here. We train the model on the Cora dataset from [PyG datasets](https://pytorch-geometric.readthedocs.io/en/latest/modules/datasets.html#torch_geometric.datasets.Planetoid) with TigerGraph as the data store. The dataset contains 2708 machine learning papers and 10556 citation links between the papers.  Each publication in the dataset is described by a 0/1-valued word vector indicating the absence/presence of the corresponding word from a dictionary. The dictionary consists of 1433 unique words. Each paper is classified into one of seven classes based on the topic. The goal is to predict the class of each vertex in the graph."
   ],
   "metadata": {}
  },
  {
   "cell_type": "markdown",
   "source": [
    "## Table of Contents\n",
    "* [Data Processing](#data_processing)  \n",
    "* [Train on whole graph](#train_whole)  \n",
    "* [Train on neighborhood subgraphs](#train_subgraph)  "
   ],
   "metadata": {}
  },
  {
   "cell_type": "markdown",
   "source": [
    "## Data Processing <a name=\"data_processing\"></a>\n",
    "\n",
    "Here we assume the dataset is already ingested into the TigerGraph database. If not, please refer to the example on data ingestion first. Since the dataset already has a split of vertices into train/validation/test sets, we don't need to do so. But we still include the code below for general use cases."
   ],
   "metadata": {}
  },
  {
   "cell_type": "markdown",
   "source": [
    "### Connect to TigerGraph"
   ],
   "metadata": {}
  },
  {
   "cell_type": "code",
   "execution_count": 1,
   "source": [
    "from tgml.data import TigerGraph\n",
    "\n",
    "tgraph = TigerGraph(\n",
    "    host=\"http://35.230.92.92\",\n",
    "    graph=\"Cora\",\n",
    "    username=\"tigergraph\",\n",
    "    password=\"tigergraphml\",\n",
    ")"
   ],
   "outputs": [],
   "metadata": {}
  },
  {
   "cell_type": "code",
   "execution_count": 2,
   "source": [
    "tgraph.info()"
   ],
   "outputs": [
    {
     "output_type": "stream",
     "name": "stdout",
     "text": [
      "Using graph 'Cora'\n",
      "---- Graph Cora\n",
      "Vertex Types: \n",
      "  - VERTEX Paper(PRIMARY_ID id INT, x LIST<INT>, y INT, train_mask BOOL, val_mask BOOL, test_mask BOOL, tmp_id INT, tmp_id2 INT, tmp_id3 INT) WITH STATS=\"OUTDEGREE_BY_EDGETYPE\", PRIMARY_ID_AS_ATTRIBUTE=\"true\"\n",
      "Edge Types: \n",
      "  - DIRECTED EDGE Cite(FROM Paper, TO Paper)\n",
      "\n",
      "Graphs: \n",
      "  - Graph Cora(Paper:v, Cite:e)\n",
      "Jobs: \n",
      "Queries: \n",
      "  - export_edge(string output_path) (installed v2)\n",
      "  - export_edge_batch(string output_path, int batch_id, int num_batches) (installed v2)\n",
      "  - export_vertex_(string output_path) (installed v2)\n",
      "  - export_vertex_batch_x_y(string output_path, int batch_id, int num_batches) (installed v2)\n",
      "  - export_vertex_train_mask_val_mask_test_mask(string output_path) (installed v2)\n",
      "  - export_vertex_x_y(string output_path) (installed v2)\n",
      "  - export_vertex_x_y_train_mask_val_mask_test_mask(string output_path) (installed v2)\n",
      "  - get_vertex_number(string v_type, string filter_by) (installed v2)\n",
      "  - shuffle_vertices(string tmp_id) (installed v2)\n",
      "  - tg_neighbor_sampler_x_y_train_mask_val_mask_test_mask(string vertex_filename, string edge_filename, int batch_id, int num_batches, int num_neighbors, int num_hops, string filter_by, string tmp_id) (installed v2)\n",
      "  - tg_pagerank(string v_type, string e_type, float max_change, int max_iter, float damping, int top_k, bool print_accum, string result_attr, string file_path, bool display_edges) (installed v2)\n",
      "  - train_test_vertex_split(string train_attr, string test_attr, string val_attr, double train_ratio, double test_ratio) (installed v2)\n",
      "\n",
      "\n",
      "\n",
      "\n"
     ]
    }
   ],
   "metadata": {}
  },
  {
   "cell_type": "code",
   "execution_count": 3,
   "source": [
    "tgraph.number_of_vertices()"
   ],
   "outputs": [
    {
     "output_type": "execute_result",
     "data": {
      "text/plain": [
       "2708"
      ]
     },
     "metadata": {},
     "execution_count": 3
    }
   ],
   "metadata": {}
  },
  {
   "cell_type": "code",
   "execution_count": 4,
   "source": [
    "tgraph.number_of_edges()"
   ],
   "outputs": [
    {
     "output_type": "execute_result",
     "data": {
      "text/plain": [
       "10556"
      ]
     },
     "metadata": {},
     "execution_count": 4
    }
   ],
   "metadata": {}
  },
  {
   "cell_type": "markdown",
   "source": [
    "### Train/validation/test split"
   ],
   "metadata": {}
  },
  {
   "cell_type": "code",
   "execution_count": 5,
   "source": [
    "# The code in this cell is commented out because there is no need to split the vertices into training/validation/test sets, as the split is already done in the original dataset. See notebook 1_data_processing for examples on the split function.\n",
    "\n",
    "# from tgml.utils import split_vertices\n",
    "# split_vertices(tgraph, train_mask=0.8, val_mask=0.1, test_mask=0.1)"
   ],
   "outputs": [],
   "metadata": {}
  },
  {
   "cell_type": "code",
   "execution_count": 6,
   "source": [
    "print(\n",
    "    \"Number of vertices in training set:\",\n",
    "    tgraph.number_of_vertices(filter_by=\"train_mask\"),\n",
    ")\n",
    "print(\n",
    "    \"Number of vertices in validation set:\",\n",
    "    tgraph.number_of_vertices(filter_by=\"val_mask\"),\n",
    ")\n",
    "print(\n",
    "    \"Number of vertices in test set:\", tgraph.number_of_vertices(filter_by=\"test_mask\")\n",
    ")"
   ],
   "outputs": [
    {
     "output_type": "stream",
     "name": "stdout",
     "text": [
      "Number of vertices in training set: 2183\n",
      "Number of vertices in validation set: 273\n",
      "Number of vertices in test set: 252\n"
     ]
    }
   ],
   "metadata": {}
  },
  {
   "cell_type": "markdown",
   "source": [
    "## Train on whole graph <a name=\"train_whole\"></a>\n",
    "We first train the model on the whole graph. This works when the graph is small, but it is not efficient or even not possible when the graph is large. Hyperparameters for the model and training environment are defined below."
   ],
   "metadata": {}
  },
  {
   "cell_type": "code",
   "execution_count": 7,
   "source": [
    "# Hyperparameters\n",
    "hp = {\"hidden_dim\": 64, \n",
    "      \"num_layers\": 2, \n",
    "      \"dropout\": 0.6, \n",
    "      \"lr\": 0.01, \n",
    "      \"l2_penalty\": 5e-4}"
   ],
   "outputs": [],
   "metadata": {}
  },
  {
   "cell_type": "markdown",
   "source": [
    "### Construct graph loader"
   ],
   "metadata": {}
  },
  {
   "cell_type": "markdown",
   "source": [
    "The `GraphLoader` will get the whole graph from database all at once. (See the tutorial on dataloaders for details.) "
   ],
   "metadata": {}
  },
  {
   "cell_type": "code",
   "execution_count": 8,
   "source": [
    "from tgml.dataloaders import GraphLoader\n",
    "\n",
    "graph_loader = GraphLoader(\n",
    "    graph=tgraph,\n",
    "    v_in_feats=\"x\",\n",
    "    v_out_labels=\"y:int\",\n",
    "    v_extra_feats=\"train_mask:bool,val_mask:bool,test_mask:bool\",\n",
    "    output_format=\"DGL\",\n",
    ")"
   ],
   "outputs": [],
   "metadata": {}
  },
  {
   "cell_type": "code",
   "execution_count": 9,
   "source": [
    "# Get the whole graph from the loader in DGL format\n",
    "data = graph_loader.data\n",
    "\n",
    "data"
   ],
   "outputs": [
    {
     "output_type": "stream",
     "name": "stderr",
     "text": [
      "Using backend: pytorch\n"
     ]
    },
    {
     "output_type": "execute_result",
     "data": {
      "text/plain": [
       "Graph(num_nodes=2708, num_edges=10556,\n",
       "      ndata_schemes={'feat': Scheme(shape=(1433,), dtype=torch.float32), 'label': Scheme(shape=(), dtype=torch.int64), 'train_mask': Scheme(shape=(), dtype=torch.bool), 'val_mask': Scheme(shape=(), dtype=torch.bool), 'test_mask': Scheme(shape=(), dtype=torch.bool)}\n",
       "      edata_schemes={})"
      ]
     },
     "metadata": {},
     "execution_count": 9
    }
   ],
   "metadata": {}
  },
  {
   "cell_type": "markdown",
   "source": [
    "### Construct model and optimizer"
   ],
   "metadata": {}
  },
  {
   "cell_type": "markdown",
   "source": [
    "We build a GCN model with 2 convolutional layers, and use the Adam optimizer with a learning rate of 0.01."
   ],
   "metadata": {}
  },
  {
   "cell_type": "code",
   "execution_count": 10,
   "source": [
    "import dgl.function as fn\n",
    "import dgl.nn.pytorch as dglnn\n",
    "import torch\n",
    "import torch.nn as nn\n",
    "import torch.nn.functional as F"
   ],
   "outputs": [],
   "metadata": {}
  },
  {
   "cell_type": "code",
   "execution_count": 11,
   "source": [
    "class GCN(nn.Module):\n",
    "    def __init__(self):\n",
    "        super(GCN, self).__init__()\n",
    "        self.layer1 = dglnn.conv.GraphConv(1433, hp['hidden_dim'])\n",
    "        self.layer2 = dglnn.conv.GraphConv(hp['hidden_dim'], 7)\n",
    "\n",
    "    def forward(self, g, features):\n",
    "        x = F.relu(self.layer1(g, features))\n",
    "        x = self.layer2(g, x)\n",
    "        return x\n",
    "\n",
    "model = GCN()\n",
    "print(model)"
   ],
   "outputs": [
    {
     "output_type": "stream",
     "name": "stdout",
     "text": [
      "GCN(\n",
      "  (layer1): GraphConv(in=1433, out=64, normalization=both, activation=None)\n",
      "  (layer2): GraphConv(in=64, out=7, normalization=both, activation=None)\n",
      ")\n"
     ]
    }
   ],
   "metadata": {}
  },
  {
   "cell_type": "code",
   "execution_count": 12,
   "source": [
    "optimizer = torch.optim.Adam(\n",
    "    model.parameters(), lr=hp[\"lr\"], weight_decay=hp[\"l2_penalty\"]\n",
    ")\n",
    "\n",
    "device = torch.device(\"cuda\" if torch.cuda.is_available() else \"cpu\")"
   ],
   "outputs": [],
   "metadata": {}
  },
  {
   "cell_type": "code",
   "execution_count": 14,
   "source": [
    "from datetime import datetime\n",
    "\n",
    "from tgml.metrics import Accuracy\n",
    "from torch.utils.tensorboard import SummaryWriter"
   ],
   "outputs": [],
   "metadata": {}
  },
  {
   "cell_type": "code",
   "execution_count": 15,
   "source": [
    "log_dir = \"logs/cora/gcn/wholegraph/\" + datetime.now().strftime(\"%Y%m%d-%H%M%S\")\n",
    "tb_log = SummaryWriter(log_dir)\n",
    "logs = {}\n",
    "data = data.to(device)\n",
    "for epoch in range(20):\n",
    "    # Train\n",
    "    model.train()\n",
    "    acc = Accuracy()\n",
    "    # Forward pass\n",
    "    out = model(data, data.ndata[\"feat\"])\n",
    "    # Calculate loss\n",
    "    loss = F.cross_entropy(out[data.ndata[\"train_mask\"]], data.ndata[\"label\"][data.ndata[\"train_mask\"]])\n",
    "    # Backward pass\n",
    "    optimizer.zero_grad()\n",
    "    loss.backward()\n",
    "    optimizer.step()\n",
    "    # Evaluate\n",
    "    val_acc = Accuracy()\n",
    "    with torch.no_grad():\n",
    "        pred = out.argmax(dim=1)\n",
    "        acc.update(pred[data.ndata[\"train_mask\"]], data.ndata[\"label\"][data.ndata[\"train_mask\"]])\n",
    "        valid_loss = F.cross_entropy(out[data.ndata[\"val_mask\"]], data.ndata[\"label\"][data.ndata[\"val_mask\"]])\n",
    "        val_acc.update(pred[data.ndata[\"val_mask\"]], data.ndata[\"label\"][data.ndata[\"val_mask\"]])\n",
    "    # Logging\n",
    "    logs[\"loss\"] = loss.item()\n",
    "    logs[\"val_loss\"] = valid_loss.item()\n",
    "    logs[\"acc\"] = acc.value\n",
    "    logs[\"val_acc\"] = val_acc.value\n",
    "    print(\n",
    "        \"Epoch: {:02d}, Train Loss: {:.4f}, Valid Loss: {:.4f}, Train Accuracy: {:.4f}, Valid Accuracy: {:.4f}\".format(\n",
    "            epoch, logs[\"loss\"], logs[\"val_loss\"], logs[\"acc\"], logs[\"val_acc\"]\n",
    "        )\n",
    "    )\n",
    "    tb_log.add_scalars(\n",
    "        \"Loss\", {\"Train\": logs[\"loss\"], \"Validation\": logs[\"val_loss\"]}, epoch\n",
    "    )\n",
    "    tb_log.add_scalars(\n",
    "        \"Accuracy\", {\"Train\": logs[\"acc\"], \"Validation\": logs[\"val_acc\"]}, epoch\n",
    "    )\n",
    "    tb_log.flush()"
   ],
   "outputs": [
    {
     "output_type": "stream",
     "name": "stdout",
     "text": [
      "Epoch: 00, Train Loss: 1.9572, Valid Loss: 1.9532, Train Accuracy: 0.1310, Valid Accuracy: 0.1685\n",
      "Epoch: 01, Train Loss: 1.7349, Valid Loss: 1.7488, Train Accuracy: 0.4269, Valid Accuracy: 0.4066\n",
      "Epoch: 02, Train Loss: 1.5207, Valid Loss: 1.5494, Train Accuracy: 0.4929, Valid Accuracy: 0.4652\n",
      "Epoch: 03, Train Loss: 1.3033, Valid Loss: 1.3452, Train Accuracy: 0.5868, Valid Accuracy: 0.5861\n",
      "Epoch: 04, Train Loss: 1.0949, Valid Loss: 1.1446, Train Accuracy: 0.6867, Valid Accuracy: 0.6813\n",
      "Epoch: 05, Train Loss: 0.9165, Valid Loss: 0.9716, Train Accuracy: 0.7934, Valid Accuracy: 0.7729\n",
      "Epoch: 06, Train Loss: 0.7706, Valid Loss: 0.8333, Train Accuracy: 0.8520, Valid Accuracy: 0.8462\n",
      "Epoch: 07, Train Loss: 0.6477, Valid Loss: 0.7206, Train Accuracy: 0.8786, Valid Accuracy: 0.8608\n",
      "Epoch: 08, Train Loss: 0.5463, Valid Loss: 0.6313, Train Accuracy: 0.8923, Valid Accuracy: 0.8571\n",
      "Epoch: 09, Train Loss: 0.4692, Valid Loss: 0.5678, Train Accuracy: 0.8974, Valid Accuracy: 0.8681\n",
      "Epoch: 10, Train Loss: 0.4133, Valid Loss: 0.5253, Train Accuracy: 0.9024, Valid Accuracy: 0.8608\n",
      "Epoch: 11, Train Loss: 0.3697, Valid Loss: 0.4941, Train Accuracy: 0.9033, Valid Accuracy: 0.8608\n",
      "Epoch: 12, Train Loss: 0.3332, Valid Loss: 0.4676, Train Accuracy: 0.9066, Valid Accuracy: 0.8718\n",
      "Epoch: 13, Train Loss: 0.3033, Valid Loss: 0.4461, Train Accuracy: 0.9139, Valid Accuracy: 0.8755\n",
      "Epoch: 14, Train Loss: 0.2807, Valid Loss: 0.4317, Train Accuracy: 0.9189, Valid Accuracy: 0.8718\n",
      "Epoch: 15, Train Loss: 0.2634, Valid Loss: 0.4240, Train Accuracy: 0.9189, Valid Accuracy: 0.8755\n",
      "Epoch: 16, Train Loss: 0.2475, Valid Loss: 0.4200, Train Accuracy: 0.9212, Valid Accuracy: 0.8755\n",
      "Epoch: 17, Train Loss: 0.2320, Valid Loss: 0.4184, Train Accuracy: 0.9262, Valid Accuracy: 0.8755\n",
      "Epoch: 18, Train Loss: 0.2182, Valid Loss: 0.4197, Train Accuracy: 0.9299, Valid Accuracy: 0.8755\n",
      "Epoch: 19, Train Loss: 0.2070, Valid Loss: 0.4239, Train Accuracy: 0.9345, Valid Accuracy: 0.8681\n"
     ]
    }
   ],
   "metadata": {}
  },
  {
   "cell_type": "code",
   "execution_count": 16,
   "source": [
    "model.eval()\n",
    "acc = Accuracy()\n",
    "with torch.no_grad():\n",
    "    pred = model(data, data.ndata[\"feat\"]).argmax(dim=1)\n",
    "    acc.update(pred[data.ndata[\"test_mask\"]], data.ndata[\"label\"][data.ndata[\"test_mask\"]])\n",
    "print(\"Accuracy: {:.4f}\".format(acc.value))"
   ],
   "outputs": [
    {
     "output_type": "stream",
     "name": "stdout",
     "text": [
      "Accuracy: 0.8532\n"
     ]
    }
   ],
   "metadata": {}
  },
  {
   "cell_type": "markdown",
   "source": [
    "## Train on Neighborhood Subgraphs <a name=\"train_subgraph\"></a>\n",
    "Alternatively, we train the model on the neighborhood subgraphs. Each subgraph contains the 2 hop neighborhood of certain seed vertices. This method  will allow us to train the model on graphs that are way larger than the CORA dataset because we don't load the whole graph into memory all at once. \n",
    "\n",
    "We will use the same parameters as before, but we will use the NeighborLoader to load subgraphs. Once we finish iterating over all the subgraphs generated by the loader, it is guaranteed to cover all vertices in the graph (except for those filtered by a user provided mask). "
   ],
   "metadata": {}
  },
  {
   "cell_type": "code",
   "execution_count": 17,
   "source": [
    "# Hyperparameters\n",
    "hp = {\"batch_size\": 64, \n",
    "      \"num_neighbors\": 10, \n",
    "      \"num_hops\": 2, \n",
    "      \"hidden_dim\": 64, \n",
    "      \"num_layers\": 2, \n",
    "      \"dropout\": 0.6, \n",
    "      \"lr\": 0.01, \n",
    "      \"l2_penalty\": 5e-4}"
   ],
   "outputs": [],
   "metadata": {}
  },
  {
   "cell_type": "markdown",
   "source": [
    "### Construct neighborhood subgraph loader"
   ],
   "metadata": {}
  },
  {
   "cell_type": "code",
   "execution_count": 18,
   "source": [
    "from tgml.dataloaders import NeighborLoader"
   ],
   "outputs": [],
   "metadata": {}
  },
  {
   "cell_type": "markdown",
   "source": [
    "Here we construct 3 subgraph loaders. The `train_loader` only uses vertices in the training set as seeds, the `valid_loader` only uses vertices in the validation set, and the `test_loader` only uses vertices in the test set."
   ],
   "metadata": {}
  },
  {
   "cell_type": "code",
   "execution_count": 19,
   "source": [
    "train_loader = NeighborLoader(\n",
    "    graph=tgraph,\n",
    "    tmp_id=\"tmp_id\",\n",
    "    v_in_feats=\"x\",\n",
    "    v_out_labels=\"y:int\",\n",
    "    v_extra_feats=\"train_mask:bool,val_mask:bool,test_mask:bool\",\n",
    "    output_format=\"DGL\",\n",
    "    batch_size=hp[\"batch_size\"],\n",
    "    num_neighbors=hp[\"num_neighbors\"],\n",
    "    num_hops=hp[\"num_hops\"],\n",
    "    shuffle=True,\n",
    "    filter_by=\"train_mask\",\n",
    "    add_self_loop=True\n",
    ")"
   ],
   "outputs": [],
   "metadata": {}
  },
  {
   "cell_type": "code",
   "execution_count": 20,
   "source": [
    "valid_loader = NeighborLoader(\n",
    "    graph=tgraph,\n",
    "    tmp_id=\"tmp_id2\",\n",
    "    v_in_feats=\"x\",\n",
    "    v_out_labels=\"y:int\",\n",
    "    v_extra_feats=\"train_mask:bool,val_mask:bool,test_mask:bool\",\n",
    "    output_format=\"DGL\",\n",
    "    batch_size=hp[\"batch_size\"],\n",
    "    num_neighbors=hp[\"num_neighbors\"],\n",
    "    num_hops=hp[\"num_hops\"],\n",
    "    shuffle=False,\n",
    "    filter_by=\"val_mask\",\n",
    "    add_self_loop=True\n",
    ")"
   ],
   "outputs": [],
   "metadata": {}
  },
  {
   "cell_type": "code",
   "execution_count": 21,
   "source": [
    "test_loader = NeighborLoader(\n",
    "    graph=tgraph,\n",
    "    tmp_id=\"tmp_id3\",\n",
    "    v_in_feats=\"x\",\n",
    "    v_out_labels=\"y:int\",\n",
    "    v_extra_feats=\"train_mask:bool,val_mask:bool,test_mask:bool\",\n",
    "    output_format=\"DGL\",\n",
    "    batch_size=hp[\"batch_size\"],\n",
    "    num_neighbors=hp[\"num_neighbors\"],\n",
    "    num_hops=hp[\"num_hops\"],\n",
    "    shuffle=False,\n",
    "    filter_by=\"test_mask\",\n",
    "    add_self_loop=True\n",
    ")"
   ],
   "outputs": [],
   "metadata": {}
  },
  {
   "cell_type": "markdown",
   "source": [
    "### Construct model and optimizer\n",
    "We build a GCN model with 2 convolutional layers, and use the Adam optimizer with a learning rate of 0.01."
   ],
   "metadata": {}
  },
  {
   "cell_type": "code",
   "execution_count": 22,
   "source": [
    "device = torch.device(\"cuda\" if torch.cuda.is_available() else \"cpu\")\n",
    "\n",
    "model = GCN().to(device)\n",
    "\n",
    "optimizer = torch.optim.Adam(\n",
    "    model.parameters(), lr=hp[\"lr\"], weight_decay=hp[\"l2_penalty\"]\n",
    ")"
   ],
   "outputs": [],
   "metadata": {}
  },
  {
   "cell_type": "markdown",
   "source": [
    "### Train the model"
   ],
   "metadata": {}
  },
  {
   "cell_type": "code",
   "execution_count": 23,
   "source": [
    "from datetime import datetime\n",
    "\n",
    "from tgml.metrics import Accumulator, Accuracy\n",
    "from torch.utils.tensorboard import SummaryWriter"
   ],
   "outputs": [],
   "metadata": {}
  },
  {
   "cell_type": "code",
   "execution_count": 24,
   "source": [
    "log_dir = \"logs/cora/gcn/subgraph/\" + datetime.now().strftime(\"%Y%m%d-%H%M%S\")\n",
    "train_log = SummaryWriter(log_dir+\"/train\")\n",
    "valid_log = SummaryWriter(log_dir+\"/valid\")\n",
    "global_steps = 0\n",
    "logs = {}\n",
    "for epoch in range(10):\n",
    "    # Train\n",
    "    model.train()\n",
    "    epoch_train_loss = Accumulator()\n",
    "    epoch_train_acc = Accuracy()\n",
    "    for bid, batch in enumerate(train_loader):\n",
    "        batchsize = batch.num_nodes()\n",
    "        batch.to(device)\n",
    "        # Forward pass\n",
    "        out = model(batch, batch.ndata[\"feat\"])\n",
    "        # Calculate loss\n",
    "        loss = F.cross_entropy(out[batch.ndata[\"train_mask\"]], batch.ndata[\"label\"][batch.ndata[\"train_mask\"]])\n",
    "        # Backward pass\n",
    "        optimizer.zero_grad()\n",
    "        loss.backward()\n",
    "        optimizer.step()\n",
    "        epoch_train_loss.update(loss.item() * batchsize, batchsize)\n",
    "        # Predict on training data\n",
    "        with torch.no_grad():\n",
    "            pred = out.argmax(dim=1)\n",
    "            epoch_train_acc.update(pred[batch.ndata[\"train_mask\"]], batch.ndata[\"label\"][batch.ndata[\"train_mask\"]])\n",
    "        # Log training status after each batch\n",
    "        logs[\"loss\"] = epoch_train_loss.mean\n",
    "        logs[\"acc\"] = epoch_train_acc.value\n",
    "        print(\n",
    "            \"Epoch {}, Train Batch {}, Loss {:.4f}, Accuracy {:.4f}\".format(\n",
    "                epoch, bid, logs[\"loss\"], logs[\"acc\"]\n",
    "            )\n",
    "        )\n",
    "        train_log.add_scalar(\"Loss\", logs[\"loss\"], global_steps)\n",
    "        train_log.add_scalar(\"Accuracy\", logs[\"acc\"], global_steps)\n",
    "        train_log.flush()\n",
    "        global_steps += 1\n",
    "    # Evaluate\n",
    "    model.eval()\n",
    "    epoch_val_loss = Accumulator()\n",
    "    epoch_val_acc = Accuracy()\n",
    "    for batch in valid_loader:\n",
    "        batchsize = batch.num_nodes()\n",
    "        batch.to(device)\n",
    "        with torch.no_grad():\n",
    "            # Forward pass\n",
    "            out = model(batch, batch.ndata[\"feat\"])\n",
    "            # Calculate loss\n",
    "            valid_loss = F.cross_entropy(out[batch.ndata[\"val_mask\"]], batch.ndata[\"label\"][batch.ndata[\"val_mask\"]])\n",
    "            epoch_val_loss.update(valid_loss.item() * batchsize, batchsize)\n",
    "            # Prediction\n",
    "            pred = out.argmax(dim=1)\n",
    "            epoch_val_acc.update(pred[batch.ndata[\"val_mask\"]], batch.ndata[\"label\"][batch.ndata[\"val_mask\"]])\n",
    "    # Log testing result after each epoch\n",
    "    logs[\"val_loss\"] = epoch_val_loss.mean\n",
    "    logs[\"val_acc\"] = epoch_val_acc.value\n",
    "    print(\n",
    "        \"Epoch {}, Valid Loss {:.4f}, Valid Accuracy {:.4f}\".format(\n",
    "            epoch, logs[\"val_loss\"], logs[\"val_acc\"]\n",
    "        )\n",
    "    )\n",
    "    valid_log.add_scalar(\"Loss\", logs[\"val_loss\"], global_steps)\n",
    "    valid_log.add_scalar(\"Accuracy\", logs[\"val_acc\"], global_steps)\n",
    "    valid_log.flush()"
   ],
   "outputs": [
    {
     "output_type": "stream",
     "name": "stdout",
     "text": [
      "Epoch 0, Train Batch 0, Loss 1.9541, Accuracy 0.1667\n",
      "Epoch 0, Train Batch 1, Loss 1.8809, Accuracy 0.2686\n",
      "Epoch 0, Train Batch 2, Loss 1.8212, Accuracy 0.2932\n",
      "Epoch 0, Train Batch 3, Loss 1.7035, Accuracy 0.3745\n",
      "Epoch 0, Train Batch 4, Loss 1.6245, Accuracy 0.4124\n",
      "Epoch 0, Train Batch 5, Loss 1.5421, Accuracy 0.4574\n",
      "Epoch 0, Train Batch 6, Loss 1.4685, Accuracy 0.4983\n",
      "Epoch 0, Train Batch 7, Loss 1.3784, Accuracy 0.5458\n",
      "Epoch 0, Train Batch 8, Loss 1.3248, Accuracy 0.5724\n",
      "Epoch 0, Train Batch 9, Loss 1.2552, Accuracy 0.6034\n",
      "Epoch 0, Train Batch 10, Loss 1.2019, Accuracy 0.6226\n",
      "Epoch 0, Train Batch 11, Loss 1.1652, Accuracy 0.6362\n",
      "Epoch 0, Train Batch 12, Loss 1.1160, Accuracy 0.6532\n",
      "Epoch 0, Train Batch 13, Loss 1.0682, Accuracy 0.6694\n",
      "Epoch 0, Train Batch 14, Loss 1.0306, Accuracy 0.6802\n",
      "Epoch 0, Train Batch 15, Loss 0.9869, Accuracy 0.6942\n",
      "Epoch 0, Train Batch 16, Loss 0.9621, Accuracy 0.7012\n",
      "Epoch 0, Train Batch 17, Loss 0.9404, Accuracy 0.7070\n",
      "Epoch 0, Train Batch 18, Loss 0.9035, Accuracy 0.7180\n",
      "Epoch 0, Train Batch 19, Loss 0.8742, Accuracy 0.7275\n",
      "Epoch 0, Train Batch 20, Loss 0.8545, Accuracy 0.7332\n",
      "Epoch 0, Train Batch 21, Loss 0.8306, Accuracy 0.7403\n",
      "Epoch 0, Train Batch 22, Loss 0.8045, Accuracy 0.7481\n",
      "Epoch 0, Train Batch 23, Loss 0.7887, Accuracy 0.7533\n",
      "Epoch 0, Train Batch 24, Loss 0.7745, Accuracy 0.7573\n",
      "Epoch 0, Train Batch 25, Loss 0.7579, Accuracy 0.7628\n",
      "Epoch 0, Train Batch 26, Loss 0.7432, Accuracy 0.7670\n",
      "Epoch 0, Train Batch 27, Loss 0.7265, Accuracy 0.7720\n",
      "Epoch 0, Train Batch 28, Loss 0.7131, Accuracy 0.7760\n",
      "Epoch 0, Train Batch 29, Loss 0.7016, Accuracy 0.7796\n",
      "Epoch 0, Train Batch 30, Loss 0.6875, Accuracy 0.7840\n",
      "Epoch 0, Train Batch 31, Loss 0.6742, Accuracy 0.7875\n",
      "Epoch 0, Train Batch 32, Loss 0.6648, Accuracy 0.7905\n",
      "Epoch 0, Train Batch 33, Loss 0.6512, Accuracy 0.7943\n",
      "Epoch 0, Train Batch 34, Loss 0.6402, Accuracy 0.7980\n",
      "Epoch 0, Valid Loss 0.4843, Valid Accuracy 0.8546\n",
      "Epoch 1, Train Batch 0, Loss 0.3029, Accuracy 0.8975\n",
      "Epoch 1, Train Batch 1, Loss 0.3167, Accuracy 0.8923\n",
      "Epoch 1, Train Batch 2, Loss 0.3011, Accuracy 0.9015\n",
      "Epoch 1, Train Batch 3, Loss 0.2833, Accuracy 0.9093\n",
      "Epoch 1, Train Batch 4, Loss 0.2773, Accuracy 0.9086\n",
      "Epoch 1, Train Batch 5, Loss 0.2730, Accuracy 0.9087\n",
      "Epoch 1, Train Batch 6, Loss 0.2666, Accuracy 0.9110\n",
      "Epoch 1, Train Batch 7, Loss 0.2637, Accuracy 0.9116\n",
      "Epoch 1, Train Batch 8, Loss 0.2650, Accuracy 0.9106\n",
      "Epoch 1, Train Batch 9, Loss 0.2643, Accuracy 0.9104\n",
      "Epoch 1, Train Batch 10, Loss 0.2603, Accuracy 0.9118\n",
      "Epoch 1, Train Batch 11, Loss 0.2633, Accuracy 0.9099\n",
      "Epoch 1, Train Batch 12, Loss 0.2624, Accuracy 0.9106\n",
      "Epoch 1, Train Batch 13, Loss 0.2611, Accuracy 0.9110\n",
      "Epoch 1, Train Batch 14, Loss 0.2611, Accuracy 0.9111\n",
      "Epoch 1, Train Batch 15, Loss 0.2585, Accuracy 0.9120\n",
      "Epoch 1, Train Batch 16, Loss 0.2574, Accuracy 0.9124\n",
      "Epoch 1, Train Batch 17, Loss 0.2587, Accuracy 0.9126\n",
      "Epoch 1, Train Batch 18, Loss 0.2588, Accuracy 0.9122\n",
      "Epoch 1, Train Batch 19, Loss 0.2589, Accuracy 0.9121\n",
      "Epoch 1, Train Batch 20, Loss 0.2590, Accuracy 0.9118\n",
      "Epoch 1, Train Batch 21, Loss 0.2600, Accuracy 0.9115\n",
      "Epoch 1, Train Batch 22, Loss 0.2639, Accuracy 0.9101\n",
      "Epoch 1, Train Batch 23, Loss 0.2629, Accuracy 0.9098\n",
      "Epoch 1, Train Batch 24, Loss 0.2626, Accuracy 0.9098\n",
      "Epoch 1, Train Batch 25, Loss 0.2616, Accuracy 0.9101\n",
      "Epoch 1, Train Batch 26, Loss 0.2614, Accuracy 0.9101\n",
      "Epoch 1, Train Batch 27, Loss 0.2601, Accuracy 0.9101\n",
      "Epoch 1, Train Batch 28, Loss 0.2597, Accuracy 0.9103\n",
      "Epoch 1, Train Batch 29, Loss 0.2600, Accuracy 0.9100\n",
      "Epoch 1, Train Batch 30, Loss 0.2582, Accuracy 0.9111\n",
      "Epoch 1, Train Batch 31, Loss 0.2582, Accuracy 0.9109\n",
      "Epoch 1, Train Batch 32, Loss 0.2570, Accuracy 0.9115\n",
      "Epoch 1, Train Batch 33, Loss 0.2548, Accuracy 0.9120\n",
      "Epoch 1, Train Batch 34, Loss 0.2549, Accuracy 0.9120\n",
      "Epoch 1, Valid Loss 0.4884, Valid Accuracy 0.8515\n",
      "Epoch 2, Train Batch 0, Loss 0.2082, Accuracy 0.9177\n",
      "Epoch 2, Train Batch 1, Loss 0.2201, Accuracy 0.9150\n",
      "Epoch 2, Train Batch 2, Loss 0.2186, Accuracy 0.9159\n",
      "Epoch 2, Train Batch 3, Loss 0.2138, Accuracy 0.9205\n",
      "Epoch 2, Train Batch 4, Loss 0.2127, Accuracy 0.9232\n",
      "Epoch 2, Train Batch 5, Loss 0.2188, Accuracy 0.9209\n",
      "Epoch 2, Train Batch 6, Loss 0.2196, Accuracy 0.9200\n",
      "Epoch 2, Train Batch 7, Loss 0.2258, Accuracy 0.9182\n",
      "Epoch 2, Train Batch 8, Loss 0.2291, Accuracy 0.9168\n",
      "Epoch 2, Train Batch 9, Loss 0.2291, Accuracy 0.9178\n",
      "Epoch 2, Train Batch 10, Loss 0.2295, Accuracy 0.9173\n",
      "Epoch 2, Train Batch 11, Loss 0.2299, Accuracy 0.9169\n",
      "Epoch 2, Train Batch 12, Loss 0.2335, Accuracy 0.9168\n",
      "Epoch 2, Train Batch 13, Loss 0.2352, Accuracy 0.9167\n",
      "Epoch 2, Train Batch 14, Loss 0.2377, Accuracy 0.9166\n",
      "Epoch 2, Train Batch 15, Loss 0.2369, Accuracy 0.9173\n",
      "Epoch 2, Train Batch 16, Loss 0.2420, Accuracy 0.9161\n",
      "Epoch 2, Train Batch 17, Loss 0.2421, Accuracy 0.9166\n",
      "Epoch 2, Train Batch 18, Loss 0.2430, Accuracy 0.9161\n",
      "Epoch 2, Train Batch 19, Loss 0.2452, Accuracy 0.9155\n",
      "Epoch 2, Train Batch 20, Loss 0.2438, Accuracy 0.9154\n",
      "Epoch 2, Train Batch 21, Loss 0.2462, Accuracy 0.9151\n",
      "Epoch 2, Train Batch 22, Loss 0.2482, Accuracy 0.9147\n",
      "Epoch 2, Train Batch 23, Loss 0.2486, Accuracy 0.9142\n",
      "Epoch 2, Train Batch 24, Loss 0.2487, Accuracy 0.9139\n",
      "Epoch 2, Train Batch 25, Loss 0.2476, Accuracy 0.9145\n",
      "Epoch 2, Train Batch 26, Loss 0.2467, Accuracy 0.9147\n",
      "Epoch 2, Train Batch 27, Loss 0.2465, Accuracy 0.9145\n",
      "Epoch 2, Train Batch 28, Loss 0.2447, Accuracy 0.9150\n",
      "Epoch 2, Train Batch 29, Loss 0.2451, Accuracy 0.9148\n",
      "Epoch 2, Train Batch 30, Loss 0.2445, Accuracy 0.9149\n",
      "Epoch 2, Train Batch 31, Loss 0.2451, Accuracy 0.9146\n",
      "Epoch 2, Train Batch 32, Loss 0.2432, Accuracy 0.9154\n",
      "Epoch 2, Train Batch 33, Loss 0.2417, Accuracy 0.9160\n",
      "Epoch 2, Train Batch 34, Loss 0.2417, Accuracy 0.9159\n",
      "Epoch 2, Valid Loss 0.4858, Valid Accuracy 0.8559\n",
      "Epoch 3, Train Batch 0, Loss 0.1934, Accuracy 0.9314\n",
      "Epoch 3, Train Batch 1, Loss 0.1989, Accuracy 0.9326\n",
      "Epoch 3, Train Batch 2, Loss 0.2123, Accuracy 0.9243\n",
      "Epoch 3, Train Batch 3, Loss 0.2114, Accuracy 0.9261\n",
      "Epoch 3, Train Batch 4, Loss 0.2161, Accuracy 0.9242\n",
      "Epoch 3, Train Batch 5, Loss 0.2137, Accuracy 0.9244\n",
      "Epoch 3, Train Batch 6, Loss 0.2095, Accuracy 0.9268\n",
      "Epoch 3, Train Batch 7, Loss 0.2199, Accuracy 0.9235\n",
      "Epoch 3, Train Batch 8, Loss 0.2199, Accuracy 0.9236\n",
      "Epoch 3, Train Batch 9, Loss 0.2251, Accuracy 0.9220\n",
      "Epoch 3, Train Batch 10, Loss 0.2278, Accuracy 0.9202\n",
      "Epoch 3, Train Batch 11, Loss 0.2281, Accuracy 0.9204\n",
      "Epoch 3, Train Batch 12, Loss 0.2282, Accuracy 0.9211\n",
      "Epoch 3, Train Batch 13, Loss 0.2294, Accuracy 0.9214\n",
      "Epoch 3, Train Batch 14, Loss 0.2255, Accuracy 0.9227\n",
      "Epoch 3, Train Batch 15, Loss 0.2270, Accuracy 0.9218\n",
      "Epoch 3, Train Batch 16, Loss 0.2288, Accuracy 0.9207\n",
      "Epoch 3, Train Batch 17, Loss 0.2304, Accuracy 0.9201\n",
      "Epoch 3, Train Batch 18, Loss 0.2327, Accuracy 0.9203\n",
      "Epoch 3, Train Batch 19, Loss 0.2321, Accuracy 0.9206\n",
      "Epoch 3, Train Batch 20, Loss 0.2319, Accuracy 0.9202\n",
      "Epoch 3, Train Batch 21, Loss 0.2372, Accuracy 0.9182\n",
      "Epoch 3, Train Batch 22, Loss 0.2376, Accuracy 0.9184\n",
      "Epoch 3, Train Batch 23, Loss 0.2355, Accuracy 0.9194\n",
      "Epoch 3, Train Batch 24, Loss 0.2370, Accuracy 0.9193\n",
      "Epoch 3, Train Batch 25, Loss 0.2368, Accuracy 0.9195\n",
      "Epoch 3, Train Batch 26, Loss 0.2368, Accuracy 0.9194\n",
      "Epoch 3, Train Batch 27, Loss 0.2376, Accuracy 0.9188\n",
      "Epoch 3, Train Batch 28, Loss 0.2359, Accuracy 0.9195\n",
      "Epoch 3, Train Batch 29, Loss 0.2378, Accuracy 0.9189\n",
      "Epoch 3, Train Batch 30, Loss 0.2370, Accuracy 0.9187\n",
      "Epoch 3, Train Batch 31, Loss 0.2344, Accuracy 0.9198\n",
      "Epoch 3, Train Batch 32, Loss 0.2353, Accuracy 0.9198\n",
      "Epoch 3, Train Batch 33, Loss 0.2364, Accuracy 0.9195\n",
      "Epoch 3, Train Batch 34, Loss 0.2355, Accuracy 0.9198\n",
      "Epoch 3, Valid Loss 0.5343, Valid Accuracy 0.8365\n",
      "Epoch 4, Train Batch 0, Loss 0.1856, Accuracy 0.9403\n",
      "Epoch 4, Train Batch 1, Loss 0.1893, Accuracy 0.9354\n",
      "Epoch 4, Train Batch 2, Loss 0.1917, Accuracy 0.9330\n",
      "Epoch 4, Train Batch 3, Loss 0.2050, Accuracy 0.9262\n",
      "Epoch 4, Train Batch 4, Loss 0.2104, Accuracy 0.9277\n",
      "Epoch 4, Train Batch 5, Loss 0.2113, Accuracy 0.9288\n",
      "Epoch 4, Train Batch 6, Loss 0.2162, Accuracy 0.9268\n",
      "Epoch 4, Train Batch 7, Loss 0.2268, Accuracy 0.9205\n",
      "Epoch 4, Train Batch 8, Loss 0.2279, Accuracy 0.9206\n",
      "Epoch 4, Train Batch 9, Loss 0.2251, Accuracy 0.9214\n",
      "Epoch 4, Train Batch 10, Loss 0.2227, Accuracy 0.9224\n",
      "Epoch 4, Train Batch 11, Loss 0.2208, Accuracy 0.9229\n",
      "Epoch 4, Train Batch 12, Loss 0.2241, Accuracy 0.9228\n",
      "Epoch 4, Train Batch 13, Loss 0.2241, Accuracy 0.9227\n",
      "Epoch 4, Train Batch 14, Loss 0.2242, Accuracy 0.9224\n",
      "Epoch 4, Train Batch 15, Loss 0.2269, Accuracy 0.9215\n",
      "Epoch 4, Train Batch 16, Loss 0.2254, Accuracy 0.9222\n",
      "Epoch 4, Train Batch 17, Loss 0.2258, Accuracy 0.9217\n",
      "Epoch 4, Train Batch 18, Loss 0.2250, Accuracy 0.9219\n",
      "Epoch 4, Train Batch 19, Loss 0.2230, Accuracy 0.9232\n",
      "Epoch 4, Train Batch 20, Loss 0.2230, Accuracy 0.9235\n",
      "Epoch 4, Train Batch 21, Loss 0.2238, Accuracy 0.9230\n",
      "Epoch 4, Train Batch 22, Loss 0.2265, Accuracy 0.9222\n",
      "Epoch 4, Train Batch 23, Loss 0.2275, Accuracy 0.9216\n",
      "Epoch 4, Train Batch 24, Loss 0.2280, Accuracy 0.9208\n",
      "Epoch 4, Train Batch 25, Loss 0.2277, Accuracy 0.9208\n",
      "Epoch 4, Train Batch 26, Loss 0.2284, Accuracy 0.9204\n",
      "Epoch 4, Train Batch 27, Loss 0.2285, Accuracy 0.9208\n",
      "Epoch 4, Train Batch 28, Loss 0.2264, Accuracy 0.9215\n",
      "Epoch 4, Train Batch 29, Loss 0.2273, Accuracy 0.9214\n",
      "Epoch 4, Train Batch 30, Loss 0.2283, Accuracy 0.9210\n",
      "Epoch 4, Train Batch 31, Loss 0.2287, Accuracy 0.9212\n",
      "Epoch 4, Train Batch 32, Loss 0.2283, Accuracy 0.9213\n",
      "Epoch 4, Train Batch 33, Loss 0.2299, Accuracy 0.9212\n",
      "Epoch 4, Train Batch 34, Loss 0.2317, Accuracy 0.9206\n",
      "Epoch 4, Valid Loss 0.4712, Valid Accuracy 0.8636\n",
      "Epoch 5, Train Batch 0, Loss 0.2026, Accuracy 0.9332\n",
      "Epoch 5, Train Batch 1, Loss 0.1829, Accuracy 0.9386\n",
      "Epoch 5, Train Batch 2, Loss 0.1908, Accuracy 0.9348\n",
      "Epoch 5, Train Batch 3, Loss 0.2032, Accuracy 0.9330\n",
      "Epoch 5, Train Batch 4, Loss 0.2107, Accuracy 0.9241\n",
      "Epoch 5, Train Batch 5, Loss 0.2087, Accuracy 0.9255\n",
      "Epoch 5, Train Batch 6, Loss 0.2147, Accuracy 0.9242\n",
      "Epoch 5, Train Batch 7, Loss 0.2275, Accuracy 0.9215\n",
      "Epoch 5, Train Batch 8, Loss 0.2230, Accuracy 0.9227\n",
      "Epoch 5, Train Batch 9, Loss 0.2238, Accuracy 0.9236\n",
      "Epoch 5, Train Batch 10, Loss 0.2186, Accuracy 0.9252\n",
      "Epoch 5, Train Batch 11, Loss 0.2204, Accuracy 0.9247\n",
      "Epoch 5, Train Batch 12, Loss 0.2179, Accuracy 0.9252\n",
      "Epoch 5, Train Batch 13, Loss 0.2173, Accuracy 0.9257\n",
      "Epoch 5, Train Batch 14, Loss 0.2167, Accuracy 0.9266\n",
      "Epoch 5, Train Batch 15, Loss 0.2177, Accuracy 0.9253\n",
      "Epoch 5, Train Batch 16, Loss 0.2198, Accuracy 0.9251\n",
      "Epoch 5, Train Batch 17, Loss 0.2178, Accuracy 0.9255\n",
      "Epoch 5, Train Batch 18, Loss 0.2173, Accuracy 0.9260\n",
      "Epoch 5, Train Batch 19, Loss 0.2213, Accuracy 0.9244\n",
      "Epoch 5, Train Batch 20, Loss 0.2193, Accuracy 0.9254\n",
      "Epoch 5, Train Batch 21, Loss 0.2199, Accuracy 0.9248\n",
      "Epoch 5, Train Batch 22, Loss 0.2197, Accuracy 0.9245\n",
      "Epoch 5, Train Batch 23, Loss 0.2183, Accuracy 0.9252\n",
      "Epoch 5, Train Batch 24, Loss 0.2171, Accuracy 0.9259\n",
      "Epoch 5, Train Batch 25, Loss 0.2176, Accuracy 0.9258\n",
      "Epoch 5, Train Batch 26, Loss 0.2203, Accuracy 0.9248\n",
      "Epoch 5, Train Batch 27, Loss 0.2212, Accuracy 0.9245\n",
      "Epoch 5, Train Batch 28, Loss 0.2211, Accuracy 0.9245\n",
      "Epoch 5, Train Batch 29, Loss 0.2209, Accuracy 0.9244\n",
      "Epoch 5, Train Batch 30, Loss 0.2216, Accuracy 0.9240\n",
      "Epoch 5, Train Batch 31, Loss 0.2227, Accuracy 0.9239\n",
      "Epoch 5, Train Batch 32, Loss 0.2223, Accuracy 0.9244\n",
      "Epoch 5, Train Batch 33, Loss 0.2234, Accuracy 0.9235\n",
      "Epoch 5, Train Batch 34, Loss 0.2234, Accuracy 0.9237\n",
      "Epoch 5, Valid Loss 0.5086, Valid Accuracy 0.8621\n",
      "Epoch 6, Train Batch 0, Loss 0.2755, Accuracy 0.9045\n",
      "Epoch 6, Train Batch 1, Loss 0.2511, Accuracy 0.9135\n",
      "Epoch 6, Train Batch 2, Loss 0.2249, Accuracy 0.9237\n",
      "Epoch 6, Train Batch 3, Loss 0.2376, Accuracy 0.9207\n",
      "Epoch 6, Train Batch 4, Loss 0.2338, Accuracy 0.9204\n",
      "Epoch 6, Train Batch 5, Loss 0.2426, Accuracy 0.9166\n",
      "Epoch 6, Train Batch 6, Loss 0.2421, Accuracy 0.9173\n",
      "Epoch 6, Train Batch 7, Loss 0.2416, Accuracy 0.9167\n",
      "Epoch 6, Train Batch 8, Loss 0.2477, Accuracy 0.9147\n",
      "Epoch 6, Train Batch 9, Loss 0.2386, Accuracy 0.9172\n",
      "Epoch 6, Train Batch 10, Loss 0.2348, Accuracy 0.9185\n",
      "Epoch 6, Train Batch 11, Loss 0.2375, Accuracy 0.9166\n",
      "Epoch 6, Train Batch 12, Loss 0.2374, Accuracy 0.9170\n",
      "Epoch 6, Train Batch 13, Loss 0.2355, Accuracy 0.9181\n",
      "Epoch 6, Train Batch 14, Loss 0.2343, Accuracy 0.9186\n",
      "Epoch 6, Train Batch 15, Loss 0.2353, Accuracy 0.9184\n",
      "Epoch 6, Train Batch 16, Loss 0.2319, Accuracy 0.9194\n",
      "Epoch 6, Train Batch 17, Loss 0.2334, Accuracy 0.9189\n",
      "Epoch 6, Train Batch 18, Loss 0.2323, Accuracy 0.9195\n",
      "Epoch 6, Train Batch 19, Loss 0.2343, Accuracy 0.9186\n",
      "Epoch 6, Train Batch 20, Loss 0.2326, Accuracy 0.9192\n",
      "Epoch 6, Train Batch 21, Loss 0.2362, Accuracy 0.9176\n",
      "Epoch 6, Train Batch 22, Loss 0.2359, Accuracy 0.9175\n",
      "Epoch 6, Train Batch 23, Loss 0.2359, Accuracy 0.9173\n",
      "Epoch 6, Train Batch 24, Loss 0.2360, Accuracy 0.9172\n",
      "Epoch 6, Train Batch 25, Loss 0.2351, Accuracy 0.9175\n",
      "Epoch 6, Train Batch 26, Loss 0.2353, Accuracy 0.9174\n",
      "Epoch 6, Train Batch 27, Loss 0.2367, Accuracy 0.9165\n",
      "Epoch 6, Train Batch 28, Loss 0.2367, Accuracy 0.9170\n",
      "Epoch 6, Train Batch 29, Loss 0.2368, Accuracy 0.9171\n",
      "Epoch 6, Train Batch 30, Loss 0.2369, Accuracy 0.9172\n",
      "Epoch 6, Train Batch 31, Loss 0.2368, Accuracy 0.9175\n",
      "Epoch 6, Train Batch 32, Loss 0.2356, Accuracy 0.9178\n",
      "Epoch 6, Train Batch 33, Loss 0.2362, Accuracy 0.9176\n",
      "Epoch 6, Train Batch 34, Loss 0.2370, Accuracy 0.9171\n",
      "Epoch 6, Valid Loss 0.5069, Valid Accuracy 0.8384\n",
      "Epoch 7, Train Batch 0, Loss 0.2059, Accuracy 0.9328\n",
      "Epoch 7, Train Batch 1, Loss 0.2049, Accuracy 0.9353\n",
      "Epoch 7, Train Batch 2, Loss 0.1953, Accuracy 0.9370\n",
      "Epoch 7, Train Batch 3, Loss 0.2107, Accuracy 0.9316\n",
      "Epoch 7, Train Batch 4, Loss 0.2106, Accuracy 0.9323\n",
      "Epoch 7, Train Batch 5, Loss 0.2046, Accuracy 0.9338\n",
      "Epoch 7, Train Batch 6, Loss 0.2098, Accuracy 0.9302\n",
      "Epoch 7, Train Batch 7, Loss 0.2108, Accuracy 0.9295\n",
      "Epoch 7, Train Batch 8, Loss 0.2136, Accuracy 0.9302\n",
      "Epoch 7, Train Batch 9, Loss 0.2173, Accuracy 0.9287\n",
      "Epoch 7, Train Batch 10, Loss 0.2178, Accuracy 0.9277\n",
      "Epoch 7, Train Batch 11, Loss 0.2160, Accuracy 0.9277\n",
      "Epoch 7, Train Batch 12, Loss 0.2153, Accuracy 0.9276\n",
      "Epoch 7, Train Batch 13, Loss 0.2190, Accuracy 0.9260\n",
      "Epoch 7, Train Batch 14, Loss 0.2223, Accuracy 0.9248\n",
      "Epoch 7, Train Batch 15, Loss 0.2230, Accuracy 0.9238\n",
      "Epoch 7, Train Batch 16, Loss 0.2248, Accuracy 0.9227\n",
      "Epoch 7, Train Batch 17, Loss 0.2260, Accuracy 0.9219\n",
      "Epoch 7, Train Batch 18, Loss 0.2230, Accuracy 0.9225\n",
      "Epoch 7, Train Batch 19, Loss 0.2248, Accuracy 0.9226\n",
      "Epoch 7, Train Batch 20, Loss 0.2255, Accuracy 0.9223\n",
      "Epoch 7, Train Batch 21, Loss 0.2258, Accuracy 0.9222\n",
      "Epoch 7, Train Batch 22, Loss 0.2256, Accuracy 0.9218\n",
      "Epoch 7, Train Batch 23, Loss 0.2245, Accuracy 0.9220\n",
      "Epoch 7, Train Batch 24, Loss 0.2240, Accuracy 0.9222\n",
      "Epoch 7, Train Batch 25, Loss 0.2240, Accuracy 0.9225\n",
      "Epoch 7, Train Batch 26, Loss 0.2274, Accuracy 0.9213\n",
      "Epoch 7, Train Batch 27, Loss 0.2266, Accuracy 0.9214\n",
      "Epoch 7, Train Batch 28, Loss 0.2264, Accuracy 0.9214\n",
      "Epoch 7, Train Batch 29, Loss 0.2288, Accuracy 0.9207\n",
      "Epoch 7, Train Batch 30, Loss 0.2303, Accuracy 0.9201\n",
      "Epoch 7, Train Batch 31, Loss 0.2317, Accuracy 0.9194\n",
      "Epoch 7, Train Batch 32, Loss 0.2317, Accuracy 0.9197\n",
      "Epoch 7, Train Batch 33, Loss 0.2317, Accuracy 0.9195\n",
      "Epoch 7, Train Batch 34, Loss 0.2326, Accuracy 0.9191\n",
      "Epoch 7, Valid Loss 0.5549, Valid Accuracy 0.8312\n",
      "Epoch 8, Train Batch 0, Loss 0.1763, Accuracy 0.9439\n",
      "Epoch 8, Train Batch 1, Loss 0.1783, Accuracy 0.9393\n",
      "Epoch 8, Train Batch 2, Loss 0.1917, Accuracy 0.9388\n",
      "Epoch 8, Train Batch 3, Loss 0.2065, Accuracy 0.9329\n",
      "Epoch 8, Train Batch 4, Loss 0.2156, Accuracy 0.9281\n",
      "Epoch 8, Train Batch 5, Loss 0.2209, Accuracy 0.9256\n",
      "Epoch 8, Train Batch 6, Loss 0.2204, Accuracy 0.9274\n",
      "Epoch 8, Train Batch 7, Loss 0.2198, Accuracy 0.9270\n",
      "Epoch 8, Train Batch 8, Loss 0.2213, Accuracy 0.9251\n",
      "Epoch 8, Train Batch 9, Loss 0.2245, Accuracy 0.9238\n",
      "Epoch 8, Train Batch 10, Loss 0.2247, Accuracy 0.9233\n",
      "Epoch 8, Train Batch 11, Loss 0.2284, Accuracy 0.9217\n",
      "Epoch 8, Train Batch 12, Loss 0.2307, Accuracy 0.9208\n",
      "Epoch 8, Train Batch 13, Loss 0.2312, Accuracy 0.9203\n",
      "Epoch 8, Train Batch 14, Loss 0.2300, Accuracy 0.9202\n",
      "Epoch 8, Train Batch 15, Loss 0.2304, Accuracy 0.9202\n",
      "Epoch 8, Train Batch 16, Loss 0.2281, Accuracy 0.9209\n",
      "Epoch 8, Train Batch 17, Loss 0.2262, Accuracy 0.9213\n",
      "Epoch 8, Train Batch 18, Loss 0.2255, Accuracy 0.9215\n",
      "Epoch 8, Train Batch 19, Loss 0.2241, Accuracy 0.9215\n",
      "Epoch 8, Train Batch 20, Loss 0.2225, Accuracy 0.9216\n",
      "Epoch 8, Train Batch 21, Loss 0.2233, Accuracy 0.9217\n",
      "Epoch 8, Train Batch 22, Loss 0.2248, Accuracy 0.9205\n",
      "Epoch 8, Train Batch 23, Loss 0.2271, Accuracy 0.9201\n",
      "Epoch 8, Train Batch 24, Loss 0.2279, Accuracy 0.9197\n",
      "Epoch 8, Train Batch 25, Loss 0.2276, Accuracy 0.9193\n",
      "Epoch 8, Train Batch 26, Loss 0.2276, Accuracy 0.9193\n",
      "Epoch 8, Train Batch 27, Loss 0.2272, Accuracy 0.9198\n",
      "Epoch 8, Train Batch 28, Loss 0.2276, Accuracy 0.9195\n",
      "Epoch 8, Train Batch 29, Loss 0.2278, Accuracy 0.9198\n",
      "Epoch 8, Train Batch 30, Loss 0.2306, Accuracy 0.9187\n",
      "Epoch 8, Train Batch 31, Loss 0.2296, Accuracy 0.9193\n",
      "Epoch 8, Train Batch 32, Loss 0.2292, Accuracy 0.9195\n",
      "Epoch 8, Train Batch 33, Loss 0.2284, Accuracy 0.9197\n",
      "Epoch 8, Train Batch 34, Loss 0.2302, Accuracy 0.9190\n",
      "Epoch 8, Valid Loss 0.5274, Valid Accuracy 0.8151\n",
      "Epoch 9, Train Batch 0, Loss 0.2787, Accuracy 0.9037\n",
      "Epoch 9, Train Batch 1, Loss 0.2468, Accuracy 0.9106\n",
      "Epoch 9, Train Batch 2, Loss 0.2301, Accuracy 0.9185\n",
      "Epoch 9, Train Batch 3, Loss 0.2107, Accuracy 0.9254\n",
      "Epoch 9, Train Batch 4, Loss 0.2098, Accuracy 0.9271\n",
      "Epoch 9, Train Batch 5, Loss 0.2178, Accuracy 0.9246\n",
      "Epoch 9, Train Batch 6, Loss 0.2186, Accuracy 0.9243\n",
      "Epoch 9, Train Batch 7, Loss 0.2175, Accuracy 0.9259\n",
      "Epoch 9, Train Batch 8, Loss 0.2170, Accuracy 0.9262\n",
      "Epoch 9, Train Batch 9, Loss 0.2180, Accuracy 0.9251\n",
      "Epoch 9, Train Batch 10, Loss 0.2182, Accuracy 0.9251\n",
      "Epoch 9, Train Batch 11, Loss 0.2158, Accuracy 0.9261\n",
      "Epoch 9, Train Batch 12, Loss 0.2152, Accuracy 0.9263\n",
      "Epoch 9, Train Batch 13, Loss 0.2227, Accuracy 0.9236\n",
      "Epoch 9, Train Batch 14, Loss 0.2188, Accuracy 0.9249\n",
      "Epoch 9, Train Batch 15, Loss 0.2186, Accuracy 0.9243\n",
      "Epoch 9, Train Batch 16, Loss 0.2201, Accuracy 0.9236\n",
      "Epoch 9, Train Batch 17, Loss 0.2202, Accuracy 0.9235\n",
      "Epoch 9, Train Batch 18, Loss 0.2225, Accuracy 0.9218\n",
      "Epoch 9, Train Batch 19, Loss 0.2242, Accuracy 0.9212\n",
      "Epoch 9, Train Batch 20, Loss 0.2240, Accuracy 0.9207\n",
      "Epoch 9, Train Batch 21, Loss 0.2266, Accuracy 0.9199\n",
      "Epoch 9, Train Batch 22, Loss 0.2263, Accuracy 0.9202\n",
      "Epoch 9, Train Batch 23, Loss 0.2249, Accuracy 0.9206\n",
      "Epoch 9, Train Batch 24, Loss 0.2246, Accuracy 0.9207\n",
      "Epoch 9, Train Batch 25, Loss 0.2248, Accuracy 0.9209\n",
      "Epoch 9, Train Batch 26, Loss 0.2248, Accuracy 0.9207\n",
      "Epoch 9, Train Batch 27, Loss 0.2238, Accuracy 0.9213\n",
      "Epoch 9, Train Batch 28, Loss 0.2245, Accuracy 0.9212\n",
      "Epoch 9, Train Batch 29, Loss 0.2252, Accuracy 0.9214\n",
      "Epoch 9, Train Batch 30, Loss 0.2247, Accuracy 0.9218\n",
      "Epoch 9, Train Batch 31, Loss 0.2252, Accuracy 0.9217\n",
      "Epoch 9, Train Batch 32, Loss 0.2263, Accuracy 0.9210\n",
      "Epoch 9, Train Batch 33, Loss 0.2268, Accuracy 0.9205\n",
      "Epoch 9, Train Batch 34, Loss 0.2258, Accuracy 0.9214\n",
      "Epoch 9, Valid Loss 0.5174, Valid Accuracy 0.8428\n"
     ]
    }
   ],
   "metadata": {}
  },
  {
   "cell_type": "markdown",
   "source": [
    "### Test the model"
   ],
   "metadata": {}
  },
  {
   "cell_type": "code",
   "execution_count": 25,
   "source": [
    "model.eval()\n",
    "acc = Accuracy()\n",
    "for batch in test_loader:\n",
    "    batch.to(device)\n",
    "    with torch.no_grad():\n",
    "        pred = model(batch, batch.ndata[\"feat\"]).argmax(dim=1)\n",
    "        acc.update(pred[batch.ndata[\"test_mask\"]], batch.ndata[\"label\"][batch.ndata[\"test_mask\"]])\n",
    "print(\"Accuracy: {:.4f}\".format(acc.value))"
   ],
   "outputs": [
    {
     "output_type": "stream",
     "name": "stdout",
     "text": [
      "Accuracy: 0.8408\n"
     ]
    }
   ],
   "metadata": {}
  },
  {
   "cell_type": "code",
   "execution_count": null,
   "source": [],
   "outputs": [],
   "metadata": {}
  }
 ],
 "metadata": {
  "orig_nbformat": 4,
  "language_info": {
   "name": "python",
   "version": "3.9.7",
   "mimetype": "text/x-python",
   "codemirror_mode": {
    "name": "ipython",
    "version": 3
   },
   "pygments_lexer": "ipython3",
   "nbconvert_exporter": "python",
   "file_extension": ".py"
  },
  "kernelspec": {
   "name": "python3",
   "display_name": "Python 3.9.7 64-bit ('dgltest': conda)"
  },
  "interpreter": {
   "hash": "8f66b71ca8719224ea73d64d6de76d0f6144fbc22674b30b02bd18d44d337481"
  }
 },
 "nbformat": 4,
 "nbformat_minor": 2
}