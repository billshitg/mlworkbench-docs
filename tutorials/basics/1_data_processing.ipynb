{
 "cells": [
  {
   "cell_type": "markdown",
   "id": "5acd0f87-69b7-4696-8d30-a68218279bdc",
   "metadata": {},
   "source": [
    "# Data Processing"
   ]
  },
  {
   "cell_type": "markdown",
   "id": "6bb9e3e6-502b-422a-8dc2-51bcf13a3762",
   "metadata": {},
   "source": [
    "This notebook demonstrates how to use `tgml` for common data processing tasks on graphs stored in `TigerGraph`."
   ]
  },
  {
   "cell_type": "markdown",
   "id": "b1c820d8-7919-481a-a9a6-36a4fbc9c43f",
   "metadata": {},
   "source": [
    "### Define Graph"
   ]
  },
  {
   "cell_type": "markdown",
   "id": "8d2211e5-7eda-4f80-87ad-d0dea6fbdf7a",
   "metadata": {},
   "source": [
    "Conceptually, the `TigerGraph` class represents the graph stored in the database. Under the hood, it stores the necessary information to communicate with the TigerGraph database. It can read `username` and `password` from environment variables `TGUSERNAME` and `TGPASSWORD`. Hence, we recommend storing those credentials in the environment variables or in a `.env` file instead of hardcoding them in code. However, if you do provide `username` and `password` to this class constructor, the environment variables will be ignored."
   ]
  },
  {
   "cell_type": "code",
   "execution_count": 1,
   "id": "0013466e-83ec-4932-b17b-32ffd56e9695",
   "metadata": {},
   "outputs": [],
   "source": [
    "from tgml.data import TigerGraph"
   ]
  },
  {
   "cell_type": "markdown",
   "id": "f927ec35-f543-4799-b9e5-4aa64ae5d4d1",
   "metadata": {},
   "source": [
    "Args to the `TigerGraph` class:\n",
    "*    host (str, ): Address of the server. Defaults to \"http://localhost\".\n",
    "*    graph (str, ): Name of the graph. Defaults to None.\n",
    "*    username (str, optional): Username. Defaults to None.\n",
    "*    password (str, optional): Password for the user. Defaults to None.\n",
    "*    rest_port (str, optional): Port for the REST endpoint. Defaults to \"9000\".\n",
    "*    gs_port (str, optional): Port for GraphStudio. Defaults to \"14240\".\n",
    "*    token_auth (bool, optional): Whether to use token authentication. If True, token authentication must be turned on in the TigerGraph database server. Defaults to True."
   ]
  },
  {
   "cell_type": "code",
   "execution_count": 2,
   "id": "1cf261f1-f0b5-40de-ac56-7578c675b1ce",
   "metadata": {},
   "outputs": [],
   "source": [
    "tgraph = TigerGraph(host = \"http://35.230.92.92\",\n",
    "                    graph = \"Cora\",\n",
    "                    username = \"tigergraph\",\n",
    "                    password = \"tigergraphml\")"
   ]
  },
  {
   "cell_type": "code",
   "execution_count": 3,
   "id": "938a7022-98f2-49ca-98cd-9569eb434e13",
   "metadata": {},
   "outputs": [
    {
     "name": "stdout",
     "output_type": "stream",
     "text": [
      "Using graph 'Cora'\n",
      "---- Graph Cora\n",
      "Vertex Types: \n",
      "  - VERTEX Paper(PRIMARY_ID id INT, x LIST<INT>, y INT, train_mask BOOL, val_mask BOOL, test_mask BOOL) WITH STATS=\"OUTDEGREE_BY_EDGETYPE\", PRIMARY_ID_AS_ATTRIBUTE=\"true\"\n",
      "Edge Types: \n",
      "  - DIRECTED EDGE Cite(FROM Paper, TO Paper)\n",
      "\n",
      "Graphs: \n",
      "  - Graph Cora(Paper:v, Cite:e)\n",
      "Jobs: \n",
      "  - CREATE LOADING JOB load_cora_data {\n",
      "      DEFINE FILENAME edge_csv = \"/home/tigergraph/data/Cora/edges.csv\";\n",
      "      DEFINE FILENAME node_csv = \"/home/tigergraph/data/Cora/nodes.csv\";\n",
      "      LOAD node_csv TO VERTEX Paper VALUES($\"id\", SPLIT($\"x\", \" \"), $\"y\", $\"train\", $\"valid\", $\"test\") USING SEPARATOR=\",\", HEADER=\"true\", EOL=\"\\n\";\n",
      "      LOAD edge_csv TO EDGE Cite VALUES($\"source\", $\"target\") USING SEPARATOR=\",\", HEADER=\"true\", EOL=\"\\n\";\n",
      "    }\n",
      "\n",
      "Queries: \n",
      "  - export_vertex_train_mask_val_mask_test_mask(string output_path) (installed v2)\n",
      "  - get_vertex_number(string v_type, string filter_by) (installed v2)\n",
      "  - train_test_vertex_split(string train_attr, string test_attr, string val_attr, double train_ratio, double test_ratio) (installed v2)\n",
      "\n",
      "\n",
      "\n",
      "\n"
     ]
    }
   ],
   "source": [
    "tgraph.info()"
   ]
  },
  {
   "cell_type": "code",
   "execution_count": 4,
   "id": "0c64295a-aa75-4fc7-9579-601d3b22b1cf",
   "metadata": {},
   "outputs": [
    {
     "data": {
      "text/plain": [
       "2708"
      ]
     },
     "execution_count": 4,
     "metadata": {},
     "output_type": "execute_result"
    }
   ],
   "source": [
    "tgraph.number_of_vertices()"
   ]
  },
  {
   "cell_type": "code",
   "execution_count": 5,
   "id": "34956134-548b-4627-b3d2-f10a0b07f008",
   "metadata": {},
   "outputs": [
    {
     "data": {
      "text/plain": [
       "2708"
      ]
     },
     "execution_count": 5,
     "metadata": {},
     "output_type": "execute_result"
    }
   ],
   "source": [
    "tgraph.number_of_vertices(\"Paper\")"
   ]
  },
  {
   "cell_type": "code",
   "execution_count": 6,
   "id": "2b1e3c01-f4d3-4405-a3d8-6ca6802f4f8b",
   "metadata": {},
   "outputs": [
    {
     "data": {
      "text/plain": [
       "10556"
      ]
     },
     "execution_count": 6,
     "metadata": {},
     "output_type": "execute_result"
    }
   ],
   "source": [
    "tgraph.number_of_edges()"
   ]
  },
  {
   "cell_type": "code",
   "execution_count": 7,
   "id": "05b1aabd-9615-4bb1-b134-7859cb3b4a47",
   "metadata": {},
   "outputs": [
    {
     "data": {
      "text/plain": [
       "10556"
      ]
     },
     "execution_count": 7,
     "metadata": {},
     "output_type": "execute_result"
    }
   ],
   "source": [
    "tgraph.number_of_edges(\"Cite\")"
   ]
  },
  {
   "cell_type": "markdown",
   "id": "e62f1cb8-4112-4874-8f53-2265495f9613",
   "metadata": {},
   "source": [
    "### Train/Validation/Test Split"
   ]
  },
  {
   "cell_type": "code",
   "execution_count": 13,
   "id": "d2ebc36d-bd66-42c4-a77a-2f06f8a4821b",
   "metadata": {},
   "outputs": [],
   "source": [
    "from tgml.utils import split_vertices"
   ]
  },
  {
   "cell_type": "markdown",
   "id": "d934ae5a-50af-45f1-ad10-2910d04ada78",
   "metadata": {},
   "source": [
    "`tgml` provide a utility function `split_vertices` to split vertices into a training, a validation, and a test set. More precisely, it creates 3 boolean attributes with each attribute indicating whether the vertex is in the corresponding set. For example, if you want to split the vertices into 80% train, 10% validation and 10% test, you can provide as arguments to the function `train_mask=0.8, val_mask=0.1, test_mask=0.1`. This will create 3 attributes `train_mask`, `val_mask`, `test_mask` in the graph, if they don't already exist. 80% of vertices will be set to `train_mask=1`, 10% to `val_mask=1`, and 10% to `test_mask=1` at random. There will be no overlap between the partitions. You can name the attributes however you like as long as you follow the format, such as `yesterday=0.8, today=0.1, tomorrow=0.1`, but we recommend something  meaningful. "
   ]
  },
  {
   "cell_type": "code",
   "execution_count": 14,
   "id": "9c86a13a-bbf6-4da3-809e-8646efba1925",
   "metadata": {},
   "outputs": [],
   "source": [
    "split_vertices(tgraph, train_mask=0.8, val_mask=0.1, test_mask=0.1)"
   ]
  },
  {
   "cell_type": "markdown",
   "id": "ad3191d5-d043-4e39-95cc-87d499f4f467",
   "metadata": {},
   "source": [
    "Now the split is done. Load all vertices and check if the split is correct. See the next tutorial for details on `VertexLoader` and other data loaders."
   ]
  },
  {
   "cell_type": "code",
   "execution_count": 15,
   "id": "9f9598a0-42d8-41de-a0b8-2c5519715aff",
   "metadata": {},
   "outputs": [],
   "source": [
    "from tgml.dataloaders import VertexLoader"
   ]
  },
  {
   "cell_type": "code",
   "execution_count": 16,
   "id": "259b65af-0f43-46cb-9f3e-0786f2f7fb41",
   "metadata": {},
   "outputs": [
    {
     "name": "stdout",
     "output_type": "stream",
     "text": [
      "CPU times: user 6.39 ms, sys: 2.45 ms, total: 8.85 ms\n",
      "Wall time: 24 s\n"
     ]
    }
   ],
   "source": [
    "%%time\n",
    "vertex_loader = VertexLoader(tgraph, attributes=\"train_mask,val_mask,test_mask\")"
   ]
  },
  {
   "cell_type": "code",
   "execution_count": 17,
   "id": "ce88477c-f298-49d9-8411-9d33b6a174f1",
   "metadata": {},
   "outputs": [
    {
     "name": "stdout",
     "output_type": "stream",
     "text": [
      "CPU times: user 79.2 ms, sys: 23.6 ms, total: 103 ms\n",
      "Wall time: 16.8 s\n"
     ]
    }
   ],
   "source": [
    "%%time\n",
    "data = vertex_loader.data"
   ]
  },
  {
   "cell_type": "code",
   "execution_count": 18,
   "id": "9737291d-304f-43bb-83e8-50cef365a754",
   "metadata": {},
   "outputs": [
    {
     "data": {
      "text/plain": [
       "(0.7996034615755472, 0.1000024105679298, 0.10039111464661074)"
      ]
     },
     "execution_count": 18,
     "metadata": {},
     "output_type": "execute_result"
    }
   ],
   "source": [
    "data.train_mask.sum()/len(data), data.val_mask.sum()/len(data), data.test_mask.sum()/len(data)"
   ]
  },
  {
   "cell_type": "code",
   "execution_count": null,
   "id": "e1587100-0089-46fc-afae-98cd9f6ebd40",
   "metadata": {},
   "outputs": [],
   "source": []
  }
 ],
 "metadata": {
  "environment": {
   "name": "pytorch-gpu.1-9.m81",
   "type": "gcloud",
   "uri": "gcr.io/deeplearning-platform-release/pytorch-gpu.1-9:m81"
  },
  "kernelspec": {
   "display_name": "Python 3 (TG+PyG)",
   "language": "python",
   "name": "python3"
  },
  "language_info": {
   "codemirror_mode": {
    "name": "ipython",
    "version": 3
   },
   "file_extension": ".py",
   "mimetype": "text/x-python",
   "name": "python",
   "nbconvert_exporter": "python",
   "pygments_lexer": "ipython3",
   "version": "3.8.12"
  }
 },
 "nbformat": 4,
 "nbformat_minor": 5
}
