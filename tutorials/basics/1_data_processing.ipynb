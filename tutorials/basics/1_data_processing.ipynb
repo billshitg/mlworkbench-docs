{
 "cells": [
  {
   "cell_type": "markdown",
   "id": "5acd0f87-69b7-4696-8d30-a68218279bdc",
   "metadata": {},
   "source": [
    "# Data Processing"
   ]
  },
  {
   "cell_type": "markdown",
   "id": "6bb9e3e6-502b-422a-8dc2-51bcf13a3762",
   "metadata": {},
   "source": [
    "This notebook demonstrates how to use `tgml` for common data processing tasks on graphs stored in `TigerGraph`."
   ]
  },
  {
   "cell_type": "markdown",
   "id": "b1c820d8-7919-481a-a9a6-36a4fbc9c43f",
   "metadata": {},
   "source": [
    "## Define Graph"
   ]
  },
  {
   "cell_type": "markdown",
   "id": "8d2211e5-7eda-4f80-87ad-d0dea6fbdf7a",
   "metadata": {},
   "source": [
    "Conceptually, the `TigerGraph` class represents the graph stored in the database. Under the hood, it stores the necessary information to communicate with the TigerGraph database. It can read `username` and `password` from environment variables `TGUSERNAME` and `TGPASSWORD`. Hence, we recommend storing those credentials in the environment variables or in a `.env` file instead of hardcoding them in code. However, if you do provide `username` and `password` to this class constructor, the environment variables will be ignored."
   ]
  },
  {
   "cell_type": "code",
   "execution_count": 1,
   "id": "0013466e-83ec-4932-b17b-32ffd56e9695",
   "metadata": {},
   "outputs": [],
   "source": [
    "from tgml.data import TigerGraph"
   ]
  },
  {
   "cell_type": "markdown",
   "id": "f927ec35-f543-4799-b9e5-4aa64ae5d4d1",
   "metadata": {},
   "source": [
    "Args to the `TigerGraph` class:\n",
    "*    host (str, ): Address of the server. Defaults to \"http://localhost\".\n",
    "*    graph (str, ): Name of the graph. Defaults to None.\n",
    "*    username (str, optional): Username. Defaults to None.\n",
    "*    password (str, optional): Password for the user. Defaults to None.\n",
    "*    rest_port (str, optional): Port for the REST endpoint. Defaults to \"9000\".\n",
    "*    gs_port (str, optional): Port for GraphStudio. Defaults to \"14240\".\n",
    "*    token_auth (bool, optional): Whether to use token authentication. If True, token authentication must be turned on in the TigerGraph database server. Defaults to True."
   ]
  },
  {
   "cell_type": "code",
   "execution_count": 2,
   "id": "1cf261f1-f0b5-40de-ac56-7578c675b1ce",
   "metadata": {},
   "outputs": [],
   "source": [
    "tgraph = TigerGraph(host = \"http://35.230.92.92\",\n",
    "                    graph = \"Cora\",\n",
    "                    username = \"tigergraph\",\n",
    "                    password = \"tigergraphml\")"
   ]
  },
  {
   "cell_type": "code",
   "execution_count": 3,
   "id": "938a7022-98f2-49ca-98cd-9569eb434e13",
   "metadata": {},
   "outputs": [
    {
     "name": "stdout",
     "output_type": "stream",
     "text": [
      "Using graph 'Cora'\n",
      "---- Graph Cora\n",
      "Vertex Types: \n",
      "  - VERTEX Paper(PRIMARY_ID id INT, x LIST<INT>, y INT, train_mask BOOL, val_mask BOOL, test_mask BOOL) WITH STATS=\"OUTDEGREE_BY_EDGETYPE\", PRIMARY_ID_AS_ATTRIBUTE=\"true\"\n",
      "Edge Types: \n",
      "  - DIRECTED EDGE Cite(FROM Paper, TO Paper)\n",
      "\n",
      "Graphs: \n",
      "  - Graph Cora(Paper:v, Cite:e)\n",
      "Jobs: \n",
      "  - CREATE LOADING JOB load_cora_data {\n",
      "      DEFINE FILENAME edge_csv = \"/home/tigergraph/data/Cora/edges.csv\";\n",
      "      DEFINE FILENAME node_csv = \"/home/tigergraph/data/Cora/nodes.csv\";\n",
      "      LOAD node_csv TO VERTEX Paper VALUES($\"id\", SPLIT($\"x\", \" \"), $\"y\", $\"train\", $\"valid\", $\"test\") USING SEPARATOR=\",\", HEADER=\"true\", EOL=\"\\n\";\n",
      "      LOAD edge_csv TO EDGE Cite VALUES($\"source\", $\"target\") USING SEPARATOR=\",\", HEADER=\"true\", EOL=\"\\n\";\n",
      "    }\n",
      "\n",
      "Queries: \n",
      "  - export_vertex_train_mask_val_mask_test_mask(string output_path) (installed v2)\n",
      "  - get_vertex_number(string v_type, string filter_by) (installed v2)\n",
      "  - train_test_vertex_split(string train_attr, string test_attr, string val_attr, double train_ratio, double test_ratio) (installed v2)\n",
      "\n",
      "\n",
      "\n",
      "\n"
     ]
    }
   ],
   "source": [
    "tgraph.info()"
   ]
  },
  {
   "cell_type": "code",
   "execution_count": 4,
   "id": "0c64295a-aa75-4fc7-9579-601d3b22b1cf",
   "metadata": {},
   "outputs": [
    {
     "data": {
      "text/plain": [
       "2708"
      ]
     },
     "execution_count": 4,
     "metadata": {},
     "output_type": "execute_result"
    }
   ],
   "source": [
    "tgraph.number_of_vertices()"
   ]
  },
  {
   "cell_type": "code",
   "execution_count": 5,
   "id": "34956134-548b-4627-b3d2-f10a0b07f008",
   "metadata": {},
   "outputs": [
    {
     "data": {
      "text/plain": [
       "2708"
      ]
     },
     "execution_count": 5,
     "metadata": {},
     "output_type": "execute_result"
    }
   ],
   "source": [
    "tgraph.number_of_vertices(\"Paper\")"
   ]
  },
  {
   "cell_type": "code",
   "execution_count": 6,
   "id": "2b1e3c01-f4d3-4405-a3d8-6ca6802f4f8b",
   "metadata": {},
   "outputs": [
    {
     "data": {
      "text/plain": [
       "10556"
      ]
     },
     "execution_count": 6,
     "metadata": {},
     "output_type": "execute_result"
    }
   ],
   "source": [
    "tgraph.number_of_edges()"
   ]
  },
  {
   "cell_type": "code",
   "execution_count": 7,
   "id": "05b1aabd-9615-4bb1-b134-7859cb3b4a47",
   "metadata": {},
   "outputs": [
    {
     "data": {
      "text/plain": [
       "10556"
      ]
     },
     "execution_count": 7,
     "metadata": {},
     "output_type": "execute_result"
    }
   ],
   "source": [
    "tgraph.number_of_edges(\"Cite\")"
   ]
  },
  {
   "cell_type": "markdown",
   "id": "e62f1cb8-4112-4874-8f53-2265495f9613",
   "metadata": {
    "tags": []
   },
   "source": [
    "## Train/Validation/Test Split"
   ]
  },
  {
   "cell_type": "code",
   "execution_count": 13,
   "id": "d2ebc36d-bd66-42c4-a77a-2f06f8a4821b",
   "metadata": {},
   "outputs": [],
   "source": [
    "from tgml.utils import split_vertices"
   ]
  },
  {
   "cell_type": "markdown",
   "id": "d934ae5a-50af-45f1-ad10-2910d04ada78",
   "metadata": {},
   "source": [
    "`tgml` provide a utility function `split_vertices` to split vertices into a training, a validation, and a test set. More precisely, it creates 3 boolean attributes with each attribute indicating whether the vertex is in the corresponding set. For example, if you want to split the vertices into 80% train, 10% validation and 10% test, you can provide as arguments to the function `train_mask=0.8, val_mask=0.1, test_mask=0.1`. This will create 3 attributes `train_mask`, `val_mask`, `test_mask` in the graph, if they don't already exist. 80% of vertices will be set to `train_mask=1`, 10% to `val_mask=1`, and 10% to `test_mask=1` at random. There will be no overlap between the partitions. You can name the attributes however you like as long as you follow the format, such as `yesterday=0.8, today=0.1, tomorrow=0.1`, but we recommend something  meaningful. "
   ]
  },
  {
   "cell_type": "code",
   "execution_count": 14,
   "id": "9c86a13a-bbf6-4da3-809e-8646efba1925",
   "metadata": {},
   "outputs": [],
   "source": [
    "split_vertices(tgraph, train_mask=0.8, val_mask=0.1, test_mask=0.1)"
   ]
  },
  {
   "cell_type": "markdown",
   "id": "ad3191d5-d043-4e39-95cc-87d499f4f467",
   "metadata": {},
   "source": [
    "Now the split is done. Load all vertices and check if the split is correct. See the next tutorial for details on `VertexLoader` and other data loaders."
   ]
  },
  {
   "cell_type": "code",
   "execution_count": 15,
   "id": "9f9598a0-42d8-41de-a0b8-2c5519715aff",
   "metadata": {},
   "outputs": [],
   "source": [
    "from tgml.dataloaders import VertexLoader"
   ]
  },
  {
   "cell_type": "code",
   "execution_count": 16,
   "id": "259b65af-0f43-46cb-9f3e-0786f2f7fb41",
   "metadata": {},
   "outputs": [
    {
     "name": "stdout",
     "output_type": "stream",
     "text": [
      "CPU times: user 6.39 ms, sys: 2.45 ms, total: 8.85 ms\n",
      "Wall time: 24 s\n"
     ]
    }
   ],
   "source": [
    "%%time\n",
    "vertex_loader = VertexLoader(tgraph, attributes=\"train_mask,val_mask,test_mask\")"
   ]
  },
  {
   "cell_type": "code",
   "execution_count": 17,
   "id": "ce88477c-f298-49d9-8411-9d33b6a174f1",
   "metadata": {},
   "outputs": [
    {
     "name": "stdout",
     "output_type": "stream",
     "text": [
      "CPU times: user 79.2 ms, sys: 23.6 ms, total: 103 ms\n",
      "Wall time: 16.8 s\n"
     ]
    }
   ],
   "source": [
    "%%time\n",
    "data = vertex_loader.data"
   ]
  },
  {
   "cell_type": "code",
   "execution_count": 18,
   "id": "9737291d-304f-43bb-83e8-50cef365a754",
   "metadata": {},
   "outputs": [
    {
     "data": {
      "text/plain": [
       "(0.7996034615755472, 0.1000024105679298, 0.10039111464661074)"
      ]
     },
     "execution_count": 18,
     "metadata": {},
     "output_type": "execute_result"
    }
   ],
   "source": [
    "data.train_mask.sum()/len(data), data.val_mask.sum()/len(data), data.test_mask.sum()/len(data)"
   ]
  },
  {
   "cell_type": "markdown",
   "id": "524bc0b4-f73e-4e7f-b902-eb5cd91be9a6",
   "metadata": {},
   "source": [
    "## Feature Engineering"
   ]
  },
  {
   "cell_type": "markdown",
   "id": "3007ed55-d6d2-4602-8429-253ac58c6c20",
   "metadata": {},
   "source": [
    "We are adding graph algorithms to the workbench to perform feature engineering tasks. Current we are experimenting with PageRank and more details will be added shortly. For now you can use `pyTigerGraph` to install and run your own GSQL queries for feature extraction or any other task that can be done in GSQL."
   ]
  },
  {
   "cell_type": "code",
   "execution_count": 11,
   "id": "83be6dfb-c2aa-4d67-9840-8ef7ba0aaa7c",
   "metadata": {},
   "outputs": [],
   "source": [
    "import pyTigerGraph as tg\n",
    "\n",
    "conn = tg.TigerGraphConnection(\n",
    "    host=\"http://35.230.92.92\",\n",
    "    username=\"tigergraph\",\n",
    "    password=\"tigergraphml\",\n",
    "    graphname=\"Cora\",\n",
    ")\n",
    "\n",
    "conn.apiToken = conn.getToken(conn.createSecret())"
   ]
  },
  {
   "cell_type": "markdown",
   "id": "8e69d12b-a975-47db-aec2-d4fcfcd75f25",
   "metadata": {},
   "source": [
    "### PageRank"
   ]
  },
  {
   "cell_type": "markdown",
   "id": "899b6536-9fde-4316-85a3-16070b898e88",
   "metadata": {},
   "source": [
    "PageRank is the algorithm that originally ran Google's search engine, where it ranked the most influential webpages higher than less influential ones. A page was determined to be influential through its PageRank score, which is based off the importance of the pages that linked to it. Generalizing this, PageRank finds the most influential vertices in a graph based upon how influential the vertices that have edges to the desired vertex are.\n",
    "\n",
    "The documentation of the PageRank query is found here: https://docs.tigergraph.com/graph-algorithm-library/centrality/pagerank."
   ]
  },
  {
   "cell_type": "markdown",
   "id": "296e9b75-1170-4f37-9f64-b9585ecb0433",
   "metadata": {},
   "source": [
    "#### Install PageRank Query"
   ]
  },
  {
   "cell_type": "code",
   "execution_count": 7,
   "id": "7b5f42e9-1335-425a-a7dd-c29aa962414c",
   "metadata": {},
   "outputs": [],
   "source": [
    "gsql = '''\n",
    "CREATE QUERY tg_pagerank (STRING v_type, STRING e_type,\n",
    " FLOAT max_change=0.001, INT max_iter=25, FLOAT damping=0.85, INT top_k = 100,\n",
    " BOOL print_accum = TRUE, STRING result_attr =  \"\", STRING file_path = \"\",\n",
    " BOOL display_edges = FALSE) {\n",
    "/*\n",
    " Compute the pageRank score for each vertex in the GRAPH\n",
    " In each iteration, compute a score for each vertex:\n",
    "     score = (1-damping) + damping*sum(received scores FROM its neighbors).\n",
    " The pageRank algorithm stops when either of the following is true:\n",
    " a) it reaches max_iter iterations;\n",
    " b) the max score change for any vertex compared to the last iteration <= max_change.\n",
    " v_type: vertex types to traverse          print_accum: print JSON output\n",
    " e_type: edge types to traverse            result_attr: INT attr to store results to\n",
    " max_iter; max #iterations                 file_path: file to write CSV output to\n",
    " top_k: #top scores to output              display_edges: output edges for visualization\n",
    " max_change: max allowed change between iterations to achieve convergence\n",
    " damping: importance of traversal vs. random teleport\n",
    "\n",
    " This query supports only taking in a single edge for the time being (8/13/2020).\n",
    "*/\n",
    "\tTYPEDEF TUPLE<VERTEX Vertex_ID, FLOAT score> Vertex_Score;\n",
    "\tHeapAccum<Vertex_Score>(top_k, score DESC) @@topScores;\n",
    "\tMaxAccum<FLOAT> @@max_diff = 9999;    # max score change in an iteration\n",
    "\tSumAccum<FLOAT> @recvd_score = 0; # sum of scores each vertex receives FROM neighbors\n",
    "\tSumAccum<FLOAT> @score = 1;           # initial score for every vertex is 1.\n",
    "\tSetAccum<EDGE> @@edgeSet;             # list of all edges, if display is needed\n",
    "\tFILE f (file_path);\n",
    "\n",
    "# PageRank iterations\t\n",
    "\tStart = {v_type};                     # Start with all vertices of specified type(s)\n",
    "\tWHILE @@max_diff > max_change LIMIT max_iter DO\n",
    "\t\t\t@@max_diff = 0;\n",
    "\t\t\tV = SELECT s\n",
    "\t\t\t\tFROM Start:s -(e_type:e)-> v_type:t\n",
    "\t\t\t\tACCUM t.@recvd_score += s.@score/(s.outdegree(e_type)) \n",
    "\t\t\t\tPOST-ACCUM s.@score = (1.0-damping) + damping * s.@recvd_score,\n",
    "\t\t\t\t\t\t   s.@recvd_score = 0,\n",
    "\t\t\t\t\t\t   @@max_diff += abs(s.@score - s.@score');\n",
    "\tEND; # END WHILE loop\n",
    "\n",
    "# Output\n",
    "\tIF file_path != \"\" THEN\n",
    "\t  f.println(\"Vertex_ID\", \"PageRank\");\n",
    "\tEND;\n",
    "\n",
    "\tV = SELECT s FROM Start:s\n",
    "\t\tPOST-ACCUM \n",
    "\t\t\tIF result_attr != \"\" THEN s.setAttr(result_attr, s.@score) END,\n",
    "\t\t\tIF file_path != \"\" THEN f.println(s, s.@score) END,\n",
    "\t\t\tIF print_accum THEN @@topScores += Vertex_Score(s, s.@score) END;\n",
    "\n",
    "\tIF print_accum THEN\n",
    "\t\tPRINT @@topScores;\n",
    "\t\tIF display_edges THEN\n",
    "\t\t\tPRINT Start[Start.@score];\n",
    "\t\t\tStart = SELECT s\n",
    "\t\t\t\t\tFROM Start:s -(e_type:e)-> v_type:t\n",
    "\t\t\t\t\tACCUM @@edgeSet += e;\n",
    "\t\t   PRINT @@edgeSet;\n",
    "\t\tEND;\n",
    "\tEND;\n",
    "}\n",
    "'''"
   ]
  },
  {
   "cell_type": "code",
   "execution_count": 8,
   "id": "25646de7-b6bd-40b9-82b6-a62f0becdf04",
   "metadata": {},
   "outputs": [
    {
     "name": "stdout",
     "output_type": "stream",
     "text": [
      "Successfully created queries: [tg_pagerank].\n",
      "Start installing queries, about 1 minute ...\n",
      "tg_pagerank query: curl -X GET 'http://127.0.0.1:9000/query/Cora/tg_pagerank?v_type=VALUE&e_type=VALUE&[max_change=VALUE]&[max_iter=VALUE]&[damping=VALUE]&[top_k=VALUE]&[print_accum=VALUE]&[result_attr=VALUE]&[file_path=VALUE]&[display_edges=VALUE]'. Add -H \"Authorization: Bearer TOKEN\" if authentication is enabled.\n",
      "Select 'm1' as compile server, now connecting ...\n",
      "Node 'm1' is prepared as compile server.\n",
      "\n",
      "Query installation finished.\n"
     ]
    }
   ],
   "source": [
    "# You can write any gsql query and install it with the following command.\n",
    "print(conn.gsql(gsql + \"\\n INSTALL QUERY tg_pagerank\"))"
   ]
  },
  {
   "cell_type": "markdown",
   "id": "5512f43e-28c7-42d4-8109-f1b6528a7dba",
   "metadata": {},
   "source": [
    "#### Run PageRank Query"
   ]
  },
  {
   "cell_type": "code",
   "execution_count": 14,
   "id": "5e371a25-69c0-475c-8554-d8684b4f66ed",
   "metadata": {},
   "outputs": [],
   "source": [
    "# Once your query is installed, you can run it using the \n",
    "# `runInstalledQuery` function with input parameters as a dict.\n",
    "\n",
    "params = {\n",
    "  \"v_type\": \"Paper\",\n",
    "  \"e_type\": \"Cite\",\n",
    "  \"max_change\": 0.001,\n",
    "  \"max_iter\": 25,\n",
    "  \"damping\": 0.85,\n",
    "  \"top_k\": 150,\n",
    "  \"print_accum\": True,\n",
    "  \"result_attr\": \"\",\n",
    "  \"file_path\": \"\",\n",
    "  \"display_edges\": False\n",
    "}\n",
    "\n",
    "pr_res = conn.runInstalledQuery(\"tg_pagerank\", params=params)"
   ]
  },
  {
   "cell_type": "code",
   "execution_count": 15,
   "id": "bdb754bd-db9a-4a6f-9c1f-08d724efb4df",
   "metadata": {},
   "outputs": [
    {
     "data": {
      "text/plain": [
       "[{'@@topScores': [{'Vertex_ID': '1358', 'score': 33.06402},\n",
       "   {'Vertex_ID': '1701', 'score': 16.8922},\n",
       "   {'Vertex_ID': '1986', 'score': 14.46646},\n",
       "   {'Vertex_ID': '306', 'score': 13.72521},\n",
       "   {'Vertex_ID': '1810', 'score': 9.81972},\n",
       "   {'Vertex_ID': '2034', 'score': 8.61615},\n",
       "   {'Vertex_ID': '1623', 'score': 7.57608},\n",
       "   {'Vertex_ID': '88', 'score': 7.24722},\n",
       "   {'Vertex_ID': '598', 'score': 7.13392},\n",
       "   {'Vertex_ID': '1013', 'score': 6.85707},\n",
       "   {'Vertex_ID': '1914', 'score': 6.5405},\n",
       "   {'Vertex_ID': '1441', 'score': 6.47049},\n",
       "   {'Vertex_ID': '733', 'score': 6.28126},\n",
       "   {'Vertex_ID': '2045', 'score': 5.70577},\n",
       "   {'Vertex_ID': '109', 'score': 5.70542},\n",
       "   {'Vertex_ID': '1542', 'score': 5.68441},\n",
       "   {'Vertex_ID': '1072', 'score': 5.67071},\n",
       "   {'Vertex_ID': '1224', 'score': 5.1217},\n",
       "   {'Vertex_ID': '1042', 'score': 4.88356},\n",
       "   {'Vertex_ID': '1169', 'score': 4.53016},\n",
       "   {'Vertex_ID': '415', 'score': 4.2736},\n",
       "   {'Vertex_ID': '2182', 'score': 4.10047},\n",
       "   {'Vertex_ID': '1692', 'score': 4.07045},\n",
       "   {'Vertex_ID': '118', 'score': 4.0354},\n",
       "   {'Vertex_ID': '1131', 'score': 3.97817},\n",
       "   {'Vertex_ID': '95', 'score': 3.96168},\n",
       "   {'Vertex_ID': '1416', 'score': 3.80551},\n",
       "   {'Vertex_ID': '661', 'score': 3.80515},\n",
       "   {'Vertex_ID': '1483', 'score': 3.7878},\n",
       "   {'Vertex_ID': '963', 'score': 3.75326},\n",
       "   {'Vertex_ID': '436', 'score': 3.66608},\n",
       "   {'Vertex_ID': '429', 'score': 3.61291},\n",
       "   {'Vertex_ID': '1103', 'score': 3.59843},\n",
       "   {'Vertex_ID': '973', 'score': 3.57251},\n",
       "   {'Vertex_ID': '2394', 'score': 3.48119},\n",
       "   {'Vertex_ID': '310', 'score': 3.47344},\n",
       "   {'Vertex_ID': '1703', 'score': 3.47015},\n",
       "   {'Vertex_ID': '2155', 'score': 3.45857},\n",
       "   {'Vertex_ID': '1413', 'score': 3.45186},\n",
       "   {'Vertex_ID': '2001', 'score': 3.45109},\n",
       "   {'Vertex_ID': '2248', 'score': 3.44804},\n",
       "   {'Vertex_ID': '1765', 'score': 3.4345},\n",
       "   {'Vertex_ID': '507', 'score': 3.39905},\n",
       "   {'Vertex_ID': '1257', 'score': 3.38653},\n",
       "   {'Vertex_ID': '1628', 'score': 3.37206},\n",
       "   {'Vertex_ID': '1624', 'score': 3.1857},\n",
       "   {'Vertex_ID': '1309', 'score': 3.16844},\n",
       "   {'Vertex_ID': '1725', 'score': 3.15394},\n",
       "   {'Vertex_ID': '1973', 'score': 3.12986},\n",
       "   {'Vertex_ID': '2671', 'score': 3.12905},\n",
       "   {'Vertex_ID': '2130', 'score': 3.07132},\n",
       "   {'Vertex_ID': '1229', 'score': 3.07026},\n",
       "   {'Vertex_ID': '2367', 'score': 3.05913},\n",
       "   {'Vertex_ID': '1950', 'score': 3.04687},\n",
       "   {'Vertex_ID': '833', 'score': 3.01618},\n",
       "   {'Vertex_ID': '1742', 'score': 2.99668},\n",
       "   {'Vertex_ID': '1894', 'score': 2.99408},\n",
       "   {'Vertex_ID': '1927', 'score': 2.975},\n",
       "   {'Vertex_ID': '239', 'score': 2.95437},\n",
       "   {'Vertex_ID': '687', 'score': 2.91486},\n",
       "   {'Vertex_ID': '1015', 'score': 2.84565},\n",
       "   {'Vertex_ID': '1050', 'score': 2.82955},\n",
       "   {'Vertex_ID': '525', 'score': 2.82344},\n",
       "   {'Vertex_ID': '1966', 'score': 2.79378},\n",
       "   {'Vertex_ID': '1740', 'score': 2.74723},\n",
       "   {'Vertex_ID': '577', 'score': 2.72675},\n",
       "   {'Vertex_ID': '1119', 'score': 2.72459},\n",
       "   {'Vertex_ID': '645', 'score': 2.68586},\n",
       "   {'Vertex_ID': '94', 'score': 2.68026},\n",
       "   {'Vertex_ID': '2025', 'score': 2.67737},\n",
       "   {'Vertex_ID': '441', 'score': 2.63909},\n",
       "   {'Vertex_ID': '2464', 'score': 2.61867},\n",
       "   {'Vertex_ID': '350', 'score': 2.57186},\n",
       "   {'Vertex_ID': '1505', 'score': 2.56403},\n",
       "   {'Vertex_ID': '565', 'score': 2.56016},\n",
       "   {'Vertex_ID': '279', 'score': 2.51284},\n",
       "   {'Vertex_ID': '55', 'score': 2.50883},\n",
       "   {'Vertex_ID': '454', 'score': 2.46573},\n",
       "   {'Vertex_ID': '2681', 'score': 2.46063},\n",
       "   {'Vertex_ID': '1655', 'score': 2.45722},\n",
       "   {'Vertex_ID': '218', 'score': 2.45351},\n",
       "   {'Vertex_ID': '154', 'score': 2.44364},\n",
       "   {'Vertex_ID': '73', 'score': 2.43845},\n",
       "   {'Vertex_ID': '2359', 'score': 2.42014},\n",
       "   {'Vertex_ID': '657', 'score': 2.40435},\n",
       "   {'Vertex_ID': '748', 'score': 2.40352},\n",
       "   {'Vertex_ID': '1171', 'score': 2.38014},\n",
       "   {'Vertex_ID': '519', 'score': 2.33984},\n",
       "   {'Vertex_ID': '2451', 'score': 2.33782},\n",
       "   {'Vertex_ID': '1952', 'score': 2.33639},\n",
       "   {'Vertex_ID': '2160', 'score': 2.33542},\n",
       "   {'Vertex_ID': '505', 'score': 2.31836},\n",
       "   {'Vertex_ID': '735', 'score': 2.31298},\n",
       "   {'Vertex_ID': '1869', 'score': 2.29008},\n",
       "   {'Vertex_ID': '734', 'score': 2.28845},\n",
       "   {'Vertex_ID': '2238', 'score': 2.28008},\n",
       "   {'Vertex_ID': '210', 'score': 2.27165},\n",
       "   {'Vertex_ID': '702', 'score': 2.26007},\n",
       "   {'Vertex_ID': '364', 'score': 2.25291},\n",
       "   {'Vertex_ID': '756', 'score': 2.24711},\n",
       "   {'Vertex_ID': '1154', 'score': 2.23487},\n",
       "   {'Vertex_ID': '1776', 'score': 2.22845},\n",
       "   {'Vertex_ID': '1902', 'score': 2.2081},\n",
       "   {'Vertex_ID': '1954', 'score': 2.20249},\n",
       "   {'Vertex_ID': '1912', 'score': 2.18143},\n",
       "   {'Vertex_ID': '1351', 'score': 2.17224},\n",
       "   {'Vertex_ID': '65', 'score': 2.17063},\n",
       "   {'Vertex_ID': '180', 'score': 2.16582},\n",
       "   {'Vertex_ID': '316', 'score': 2.16156},\n",
       "   {'Vertex_ID': '487', 'score': 2.14759},\n",
       "   {'Vertex_ID': '1317', 'score': 2.14251},\n",
       "   {'Vertex_ID': '1558', 'score': 2.13081},\n",
       "   {'Vertex_ID': '711', 'score': 2.12441},\n",
       "   {'Vertex_ID': '1955', 'score': 2.12391},\n",
       "   {'Vertex_ID': '2291', 'score': 2.11064},\n",
       "   {'Vertex_ID': '374', 'score': 2.08967},\n",
       "   {'Vertex_ID': '2570', 'score': 2.0887},\n",
       "   {'Vertex_ID': '1889', 'score': 2.08693},\n",
       "   {'Vertex_ID': '2122', 'score': 2.08604},\n",
       "   {'Vertex_ID': '89', 'score': 2.08414},\n",
       "   {'Vertex_ID': '48', 'score': 2.08378},\n",
       "   {'Vertex_ID': '1682', 'score': 2.06382},\n",
       "   {'Vertex_ID': '2450', 'score': 2.06139},\n",
       "   {'Vertex_ID': '482', 'score': 2.05373},\n",
       "   {'Vertex_ID': '231', 'score': 2.0448},\n",
       "   {'Vertex_ID': '2383', 'score': 2.03968},\n",
       "   {'Vertex_ID': '2335', 'score': 2.0341},\n",
       "   {'Vertex_ID': '1702', 'score': 2.03405},\n",
       "   {'Vertex_ID': '59', 'score': 2.03227},\n",
       "   {'Vertex_ID': '1602', 'score': 2.01555},\n",
       "   {'Vertex_ID': '1269', 'score': 2.01055},\n",
       "   {'Vertex_ID': '1583', 'score': 2.00169},\n",
       "   {'Vertex_ID': '2199', 'score': 2.0016},\n",
       "   {'Vertex_ID': '1022', 'score': 1.99894},\n",
       "   {'Vertex_ID': '1907', 'score': 1.996},\n",
       "   {'Vertex_ID': '2309', 'score': 1.9935},\n",
       "   {'Vertex_ID': '2083', 'score': 1.98328},\n",
       "   {'Vertex_ID': '281', 'score': 1.97476},\n",
       "   {'Vertex_ID': '1903', 'score': 1.96229},\n",
       "   {'Vertex_ID': '456', 'score': 1.95881},\n",
       "   {'Vertex_ID': '736', 'score': 1.95754},\n",
       "   {'Vertex_ID': '490', 'score': 1.9535},\n",
       "   {'Vertex_ID': '1464', 'score': 1.94848},\n",
       "   {'Vertex_ID': '2080', 'score': 1.947},\n",
       "   {'Vertex_ID': '444', 'score': 1.92179},\n",
       "   {'Vertex_ID': '2539', 'score': 1.92066},\n",
       "   {'Vertex_ID': '1367', 'score': 1.92044},\n",
       "   {'Vertex_ID': '236', 'score': 1.91791},\n",
       "   {'Vertex_ID': '867', 'score': 1.91267},\n",
       "   {'Vertex_ID': '817', 'score': 1.9109}]}]"
      ]
     },
     "execution_count": 15,
     "metadata": {},
     "output_type": "execute_result"
    }
   ],
   "source": [
    "# Output from your query will be returned as a JSON\n",
    "pr_res"
   ]
  },
  {
   "cell_type": "code",
   "execution_count": null,
   "id": "85e2acc2-40b1-4a48-a5aa-e8b1e5d5cce2",
   "metadata": {},
   "outputs": [],
   "source": []
  }
 ],
 "metadata": {
  "environment": {
   "name": "pytorch-gpu.1-9.m81",
   "type": "gcloud",
   "uri": "gcr.io/deeplearning-platform-release/pytorch-gpu.1-9:m81"
  },
  "kernelspec": {
   "display_name": "Python 3 (TG+PyG)",
   "language": "python",
   "name": "python3"
  },
  "language_info": {
   "codemirror_mode": {
    "name": "ipython",
    "version": 3
   },
   "file_extension": ".py",
   "mimetype": "text/x-python",
   "name": "python",
   "nbconvert_exporter": "python",
   "pygments_lexer": "ipython3",
   "version": "3.9.7"
  }
 },
 "nbformat": 4,
 "nbformat_minor": 5
}
